{
 "cells": [
  {
   "cell_type": "code",
   "execution_count": 1,
   "metadata": {
    "colab": {},
    "colab_type": "code",
    "id": "zayhn71KV5bc"
   },
   "outputs": [],
   "source": [
    "import numpy as np\n",
    "import pandas as pd\n",
    "from sklearn.datasets import load_iris\n",
    "from sklearn.metrics import accuracy_score, mean_squared_error, log_loss\n",
    "from sklearn.model_selection import train_test_split\n",
    "import matplotlib.pyplot as plt\n",
    "import matplotlib.colors\n",
    "import seaborn as sns\n",
    "from tqdm import tqdm_notebook\n",
    "from numpy.linalg import norm\n",
    "from sklearn.preprocessing import OneHotEncoder"
   ]
  },
  {
   "cell_type": "code",
   "execution_count": 2,
   "metadata": {
    "colab": {},
    "colab_type": "code",
    "id": "AQzjUNgQW5NV"
   },
   "outputs": [],
   "source": [
    "data = load_iris()\n",
    "X = data.data[:, :2]\n",
    "Y = data.target"
   ]
  },
  {
   "cell_type": "code",
   "execution_count": 3,
   "metadata": {
    "colab": {
     "base_uri": "https://localhost:8080/",
     "height": 34
    },
    "colab_type": "code",
    "executionInfo": {
     "elapsed": 2758,
     "status": "ok",
     "timestamp": 1587464384009,
     "user": {
      "displayName": "shah krishna",
      "photoUrl": "",
      "userId": "02285464088952770387"
     },
     "user_tz": -330
    },
    "id": "s2n00lLuXMwq",
    "outputId": "7005701b-26bd-4cfd-ffd9-a78a812b2484"
   },
   "outputs": [
    {
     "name": "stdout",
     "output_type": "stream",
     "text": [
      "(150, 2) (150,)\n"
     ]
    }
   ],
   "source": [
    "print(X.shape, Y.shape)"
   ]
  },
  {
   "cell_type": "code",
   "execution_count": 4,
   "metadata": {
    "colab": {},
    "colab_type": "code",
    "id": "OUn-azdXXRfE"
   },
   "outputs": [],
   "source": [
    "my_cmap = matplotlib.colors.LinearSegmentedColormap.from_list(\"\", [\"red\", \"yellow\", \"green\"])"
   ]
  },
  {
   "cell_type": "code",
   "execution_count": 5,
   "metadata": {
    "colab": {},
    "colab_type": "code",
    "id": "vlnQJj52Z0Mp"
   },
   "outputs": [],
   "source": [
    "np.random.seed(0)"
   ]
  },
  {
   "cell_type": "code",
   "execution_count": 6,
   "metadata": {
    "colab": {
     "base_uri": "https://localhost:8080/",
     "height": 444
    },
    "colab_type": "code",
    "executionInfo": {
     "elapsed": 2163,
     "status": "ok",
     "timestamp": 1587464386099,
     "user": {
      "displayName": "shah krishna",
      "photoUrl": "",
      "userId": "02285464088952770387"
     },
     "user_tz": -330
    },
    "id": "8CYTtCGqXg1G",
    "outputId": "5f8aa1bc-ee0b-4606-a81c-47d31aebe0b8"
   },
   "outputs": [
    {
     "data": {
      "image/png": "[encoded data removed]",
      "text/plain": [
       "<Figure size 432x288 with 1 Axes>"
      ]
     },
     "metadata": {
      "needs_background": "light"
     },
     "output_type": "display_data"
    }
   ],
   "source": [
    "plt.scatter(X[:, 0], X[:, 1], c= Y, cmap=my_cmap)\n",
    "plt.xlabel(\"Feature1\")\n",
    "plt.ylabel(\"Feature2\")\n",
    "plt.show()\n",
    "plt.rcParams['figure.figsize'] = [7, 7]"
   ]
  },
  {
   "cell_type": "code",
   "execution_count": 7,
   "metadata": {
    "colab": {
     "base_uri": "https://localhost:8080/",
     "height": 34
    },
    "colab_type": "code",
    "executionInfo": {
     "elapsed": 1747,
     "status": "ok",
     "timestamp": 1587464389882,
     "user": {
      "displayName": "shah krishna",
      "photoUrl": "",
      "userId": "02285464088952770387"
     },
     "user_tz": -330
    },
    "id": "F3ElhNNbXtCo",
    "outputId": "197fe054-3cc2-437c-8fbe-412d180dd455"
   },
   "outputs": [
    {
     "name": "stdout",
     "output_type": "stream",
     "text": [
      "(112, 2) (38,) <class 'numpy.ndarray'>\n"
     ]
    }
   ],
   "source": [
    "X_train, X_val, Y_train, Y_val = train_test_split(X, Y, stratify = Y, random_state = 0)\n",
    "print(X_train.shape, Y_val.shape, type(X_train))"
   ]
  },
  {
   "cell_type": "code",
   "execution_count": 8,
   "metadata": {
    "colab": {},
    "colab_type": "code",
    "id": "hDCgcwXXaIFj"
   },
   "outputs": [
    {
     "name": "stderr",
     "output_type": "stream",
     "text": [
      "C:\\ProgramData\\Anaconda3\\lib\\site-packages\\sklearn\\preprocessing\\_encoders.py:368: FutureWarning: The handling of integer data will change in version 0.22. Currently, the categories are determined based on the range [0, max(values)], while in the future they will be determined based on the unique values.\n",
      "If you want the future behaviour and silence this warning, you can specify \"categories='auto'\".\n",
      "In case you used a LabelEncoder before this OneHotEncoder to convert the categories to integers, then you can now use the OneHotEncoder directly.\n",
      "  warnings.warn(msg, FutureWarning)\n",
      "C:\\ProgramData\\Anaconda3\\lib\\site-packages\\sklearn\\preprocessing\\_encoders.py:368: FutureWarning: The handling of integer data will change in version 0.22. Currently, the categories are determined based on the range [0, max(values)], while in the future they will be determined based on the unique values.\n",
      "If you want the future behaviour and silence this warning, you can specify \"categories='auto'\".\n",
      "In case you used a LabelEncoder before this OneHotEncoder to convert the categories to integers, then you can now use the OneHotEncoder directly.\n",
      "  warnings.warn(msg, FutureWarning)\n"
     ]
    }
   ],
   "source": [
    "enc = OneHotEncoder()\n",
    "Y_OH_train = enc.fit_transform(np.expand_dims(Y_train, 1)).toarray()\n",
    "Y_OH_val = enc.fit_transform(np.expand_dims(Y_val, 1)).toarray()"
   ]
  },
  {
   "cell_type": "code",
   "execution_count": 9,
   "metadata": {
    "colab": {
     "base_uri": "https://localhost:8080/",
     "height": 50
    },
    "colab_type": "code",
    "executionInfo": {
     "elapsed": 1421,
     "status": "ok",
     "timestamp": 1587464391886,
     "user": {
      "displayName": "shah krishna",
      "photoUrl": "",
      "userId": "02285464088952770387"
     },
     "user_tz": -330
    },
    "id": "-KrliHdPXUzJ",
    "outputId": "01cf627d-fe37-492e-b773-c8769f34d87c"
   },
   "outputs": [
    {
     "name": "stdout",
     "output_type": "stream",
     "text": [
      "(112, 3) (38, 3)\n",
      "<class 'numpy.ndarray'> <class 'numpy.ndarray'>\n"
     ]
    }
   ],
   "source": [
    "print(Y_OH_train.shape, Y_OH_val.shape)\n",
    "print(type(Y_OH_train), type(Y_OH_val))"
   ]
  },
  {
   "cell_type": "code",
   "execution_count": 10,
   "metadata": {
    "colab": {},
    "colab_type": "code",
    "id": "APsWDEu8bR8Z"
   },
   "outputs": [],
   "source": [
    "class FFNetwork:\n",
    "  \n",
    "  def __init__(self, num_hidden=2, init_method = 'xavier', activation_function = 'sigmoid', leaky_slope = 0.1):\n",
    "        \n",
    "    self.params={}\n",
    "    self.num_layers=2\n",
    "    self.layer_sizes = [2, num_hidden, 3]\n",
    "    self.activation_function = activation_function\n",
    "    self.leaky_slope = leaky_slope\n",
    "    np.random.seed(0)\n",
    "    \n",
    "    if init_method == \"random\":\n",
    "      for i in range(1,self.num_layers+1):\n",
    "        self.params[\"W\"+str(i)] = np.random.randn(self.layer_sizes[i-1],self.layer_sizes[i])\n",
    "        self.params[\"B\"+str(i)] = np.random.randn(1,self.layer_sizes[i])\n",
    "        \n",
    "    elif init_method == \"he\":\n",
    "      for i in range(1,self.num_layers+1):\n",
    "        self.params[\"W\"+str(i)] = np.random.randn(self.layer_sizes[i-1],self.layer_sizes[i])*np.sqrt(2/self.layer_sizes[i-1])\n",
    "        self.params[\"B\"+str(i)] = np.random.randn(1,self.layer_sizes[i])\n",
    "        \n",
    "    elif init_method == \"xavier\":\n",
    "      for i in range(1,self.num_layers+1):\n",
    "        self.params[\"W\"+str(i)]=np.random.randn(self.layer_sizes[i-1],self.layer_sizes[i])*np.sqrt(1/self.layer_sizes[i-1])\n",
    "        self.params[\"B\"+str(i)]=np.random.randn(1,self.layer_sizes[i])\n",
    "    \n",
    "    self.gradients={}\n",
    "    self.update_params={}\n",
    "    self.prev_update_params={}\n",
    "    for i in range(1,self.num_layers+1):\n",
    "      self.update_params[\"v_w\"+str(i)]=0\n",
    "      self.update_params[\"v_b\"+str(i)]=0\n",
    "      self.update_params[\"m_b\"+str(i)]=0\n",
    "      self.update_params[\"m_w\"+str(i)]=0\n",
    "      self.prev_update_params[\"v_w\"+str(i)]=0\n",
    "      self.prev_update_params[\"v_b\"+str(i)]=0\n",
    "  \n",
    "  def forward_activation(self, X): \n",
    "    if self.activation_function == \"sigmoid\":\n",
    "      return 1.0/(1.0 + np.exp(-X))\n",
    "    elif self.activation_function == \"tanh\":\n",
    "      return np.tanh(X)\n",
    "    elif self.activation_function == \"relu\":\n",
    "      return np.maximum(0,X)\n",
    "    elif self.activation_function == \"leaky_relu\":\n",
    "      return np.maximum(self.leaky_slope*X,X)\n",
    "      \n",
    "  def grad_activation(self, X):\n",
    "    if self.activation_function == \"sigmoid\":\n",
    "      return X*(1-X) \n",
    "    elif self.activation_function == \"tanh\":\n",
    "      return (1-np.square(X))\n",
    "    elif self.activation_function == \"relu\":\n",
    "      return 1.0*(X>0)\n",
    "    elif self.activation_function == \"leaky_relu\":\n",
    "      d=np.zeros_like(X)\n",
    "      d[X<=0]=self.leaky_slope\n",
    "      d[X>0]=1\n",
    "      return d\n",
    "    \n",
    "  def get_accuracy(self):    \n",
    "    Y_pred_train = model.predict(X_train)\n",
    "    Y_pred_train = np.argmax(Y_pred_train,1)\n",
    "    Y_pred_val = model.predict(X_val)\n",
    "    Y_pred_val = np.argmax(Y_pred_val,1)\n",
    "    accuracy_train = accuracy_score(Y_pred_train, Y_train)\n",
    "    accuracy_val = accuracy_score(Y_pred_val, Y_val)\n",
    "    return accuracy_train,accuracy_val\n",
    "    \n",
    "  def softmax(self, X):\n",
    "    exps = np.exp(X)\n",
    "    return exps / np.sum(exps, axis=1).reshape(-1,1)\n",
    "  \n",
    "  def forward_pass(self, X, params = None):\n",
    "    if params is None:\n",
    "        params = self.params\n",
    "    self.A1 = np.matmul(X, params[\"W1\"]) + params[\"B1\"] # (N, 2) * (2, 2) -> (N, 2)\n",
    "    self.H1 = self.forward_activation(self.A1) # (N, 2)\n",
    "    self.A2 = np.matmul(self.H1, params[\"W2\"]) + params[\"B2\"] # (N, 2) * (2, 2) -> (N, 2)\n",
    "    self.H2 = self.softmax(self.A2) # (N, 2)\n",
    "    return self.H2\n",
    "  \n",
    "  def grad(self, X, Y, params = None):\n",
    "    if params is None:\n",
    "      params = self.params \n",
    "      \n",
    "    self.forward_pass(X, params)\n",
    "    m = X.shape[0]\n",
    "    self.gradients[\"dA2\"] = self.H2 - Y # (N, 4) - (N, 4) -> (N, 4)\n",
    "    self.gradients[\"dW2\"] = np.matmul(self.H1.T, self.gradients[\"dA2\"]) # (2, N) * (N, 4) -> (2, 4)\n",
    "    self.gradients[\"dB2\"] = np.sum(self.gradients[\"dA2\"], axis=0).reshape(1, -1) # (N, 4) -> (1, 4)\n",
    "    self.gradients[\"dH1\"] = np.matmul(self.gradients[\"dA2\"], params[\"W2\"].T) # (N, 4) * (4, 2) -> (N, 2)\n",
    "    self.gradients[\"dA1\"] = np.multiply(self.gradients[\"dH1\"], self.grad_activation(self.H1)) # (N, 2) .* (N, 2) -> (N, 2)\n",
    "    self.gradients[\"dW1\"] = np.matmul(X.T, self.gradients[\"dA1\"]) # (2, N) * (N, 2) -> (2, 2)\n",
    "    self.gradients[\"dB1\"] = np.sum(self.gradients[\"dA1\"], axis=0).reshape(1, -1) # (N, 2) -> (1, 2)\n",
    "    \n",
    "  def fit(self, X, Y, epochs=1, algo= \"GD\",l2_norm=False, lambda_val=0.8, display_loss=False, eta=1):\n",
    "    train_accuracies={}\n",
    "    val_accuracies={}\n",
    "    if display_loss:\n",
    "      loss = []\n",
    "      weight_mag = []\n",
    "    for num_epoch in tqdm_notebook(range(epochs), total=epochs, unit=\"epoch\"):\n",
    "      m = X.shape[0]\n",
    "      \n",
    "      self.grad(X, Y)\n",
    "      for i in range(1,self.num_layers+1):\n",
    "        if l2_norm:\n",
    "          self.params[\"W\"+str(i)] -= (eta * lambda_val)/m * self.params[\"W\"+str(i)] + eta * (self.gradients[\"dW\"+str(i)]/m)\n",
    "        else:\n",
    "          self.params[\"W\"+str(i)] -= eta * (self.gradients[\"dW\"+str(i)]/m)\n",
    "        self.params[\"B\"+str(i)] -= eta * (self.gradients[\"dB\"+str(i)]/m)\n",
    "          \n",
    "      train_accuracy,val_accuracy=self.get_accuracy()\n",
    "      train_accuracies[num_epoch]=train_accuracy\n",
    "      val_accuracies[num_epoch]=val_accuracy\n",
    "      if display_loss:\n",
    "        Y_pred = self.predict(X)\n",
    "        loss.append(log_loss(np.argmax(Y, axis=1), Y_pred))\n",
    "        weight_mag.append((norm(self.params[\"W1\"]) + norm(self.params[\"W2\"]) + norm(self.params[\"B1\"]) + norm(self.params[\"B2\"]))/18)\n",
    "        \n",
    "    plt.plot(train_accuracies.values(),label=\"Train accuracy\")\n",
    "    plt.plot(val_accuracies.values(),label=\"Validation accuracy\")\n",
    "    plt.plot(np.ones((epochs, 1))*0.9)\n",
    "    plt.plot(np.ones((epochs, 1))*0.33)\n",
    "    plt.xlabel('Epochs')\n",
    "    plt.ylabel('Accuracy')\n",
    "    plt.legend()\n",
    "    plt.show()\n",
    "    \n",
    "    if display_loss:\n",
    "      fig, ax1 = plt.subplots()\n",
    "      color = 'tab:red'\n",
    "      ax1.set_xlabel('epochs')\n",
    "      ax1.set_ylabel('Log Loss', color=color)\n",
    "      ax1.plot(loss, '-o', color=color)\n",
    "      ax1.tick_params(axis='y', labelcolor=color)\n",
    "      ax2 = ax1.twinx()  \n",
    "      color = 'tab:blue'\n",
    "      ax2.set_ylabel('Weight Magnitude', color=color)  # we already handled the x-label with ax1\n",
    "      ax2.plot(weight_mag, '-*', color=color)\n",
    "      ax2.tick_params(axis='y', labelcolor=color)\n",
    "      fig.tight_layout()  \n",
    "      plt.show()\n",
    "\n",
    "  \n",
    "  def predict(self, X):\n",
    "    Y_pred = self.forward_pass(X)\n",
    "    return np.array(Y_pred).squeeze()                               "
   ]
  },
  {
   "cell_type": "code",
   "execution_count": 11,
   "metadata": {
    "colab": {},
    "colab_type": "code",
    "id": "hFIC5kbtNF3y"
   },
   "outputs": [],
   "source": [
    "def print_accuracy():\n",
    "  Y_pred_train = self.predict(X_train)\n",
    "  Y_pred_train = np.argmax(Y_pred_train, 1)\n",
    "  Y_pred_val = self.predict(X_val)\n",
    "  Y_pred_val = np.argmax(Y_pred_val, 1)\n",
    "  accuracy_train = accuracy_score(Y_pred_train, Y_train)\n",
    "  accuracy_val = accuracy_score(Y_pred_val, Y_val)\n",
    "  print(accuracy_train, accuracy_val)"
   ]
  },
  {
   "cell_type": "code",
   "execution_count": 15,
   "metadata": {
    "colab": {
     "base_uri": "https://localhost:8080/",
     "height": 330
    },
    "colab_type": "code",
    "executionInfo": {
     "elapsed": 1286,
     "status": "error",
     "timestamp": 1587464400842,
     "user": {
      "displayName": "shah krishna",
      "photoUrl": "",
      "userId": "02285464088952770387"
     },
     "user_tz": -330
    },
    "id": "JFGPZyp6-TNf",
    "outputId": "ebca4e25-3446-44ec-d7ee-2ce212c015aa"
   },
   "outputs": [
    {
     "data": {
      "application/vnd.jupyter.widget-view+json": {
       "model_id": "beb440bcbf4e4d8bbd10376d038ab9da",
       "version_major": 2,
       "version_minor": 0
      },
      "text/plain": [
       "HBox(children=(IntProgress(value=0, max=1), HTML(value='')))"
      ]
     },
     "metadata": {},
     "output_type": "display_data"
    },
    {
     "name": "stdout",
     "output_type": "stream",
     "text": [
      "\n"
     ]
    },
    {
     "ename": "NameError",
     "evalue": "name 'model' is not defined",
     "output_type": "error",
     "traceback": [
      "\u001b[1;31m---------------------------------------------------------------------------\u001b[0m",
      "\u001b[1;31mNameError\u001b[0m                                 Traceback (most recent call last)",
      "\u001b[1;32m<ipython-input-15-df597006d2f9>\u001b[0m in \u001b[0;36m<module>\u001b[1;34m\u001b[0m\n\u001b[0;32m      1\u001b[0m \u001b[0mffn\u001b[0m \u001b[1;33m=\u001b[0m \u001b[0mFFNetwork\u001b[0m\u001b[1;33m(\u001b[0m\u001b[1;33m)\u001b[0m\u001b[1;33m\u001b[0m\u001b[1;33m\u001b[0m\u001b[0m\n\u001b[1;32m----> 2\u001b[1;33m \u001b[0mffn\u001b[0m\u001b[1;33m.\u001b[0m\u001b[0mfit\u001b[0m\u001b[1;33m(\u001b[0m\u001b[0mX_train\u001b[0m\u001b[1;33m,\u001b[0m \u001b[0mY_OH_train\u001b[0m\u001b[1;33m)\u001b[0m\u001b[1;33m\u001b[0m\u001b[1;33m\u001b[0m\u001b[0m\n\u001b[0m",
      "\u001b[1;32m<ipython-input-10-315d4873bbcd>\u001b[0m in \u001b[0;36mfit\u001b[1;34m(self, X, Y, epochs, algo, l2_norm, lambda_val, display_loss, eta)\u001b[0m\n\u001b[0;32m    112\u001b[0m         \u001b[0mself\u001b[0m\u001b[1;33m.\u001b[0m\u001b[0mparams\u001b[0m\u001b[1;33m[\u001b[0m\u001b[1;34m\"B\"\u001b[0m\u001b[1;33m+\u001b[0m\u001b[0mstr\u001b[0m\u001b[1;33m(\u001b[0m\u001b[0mi\u001b[0m\u001b[1;33m)\u001b[0m\u001b[1;33m]\u001b[0m \u001b[1;33m-=\u001b[0m \u001b[0meta\u001b[0m \u001b[1;33m*\u001b[0m \u001b[1;33m(\u001b[0m\u001b[0mself\u001b[0m\u001b[1;33m.\u001b[0m\u001b[0mgradients\u001b[0m\u001b[1;33m[\u001b[0m\u001b[1;34m\"dB\"\u001b[0m\u001b[1;33m+\u001b[0m\u001b[0mstr\u001b[0m\u001b[1;33m(\u001b[0m\u001b[0mi\u001b[0m\u001b[1;33m)\u001b[0m\u001b[1;33m]\u001b[0m\u001b[1;33m/\u001b[0m\u001b[0mm\u001b[0m\u001b[1;33m)\u001b[0m\u001b[1;33m\u001b[0m\u001b[1;33m\u001b[0m\u001b[0m\n\u001b[0;32m    113\u001b[0m \u001b[1;33m\u001b[0m\u001b[0m\n\u001b[1;32m--> 114\u001b[1;33m       \u001b[0mtrain_accuracy\u001b[0m\u001b[1;33m,\u001b[0m\u001b[0mval_accuracy\u001b[0m\u001b[1;33m=\u001b[0m\u001b[0mself\u001b[0m\u001b[1;33m.\u001b[0m\u001b[0mget_accuracy\u001b[0m\u001b[1;33m(\u001b[0m\u001b[1;33m)\u001b[0m\u001b[1;33m\u001b[0m\u001b[1;33m\u001b[0m\u001b[0m\n\u001b[0m\u001b[0;32m    115\u001b[0m       \u001b[0mtrain_accuracies\u001b[0m\u001b[1;33m[\u001b[0m\u001b[0mnum_epoch\u001b[0m\u001b[1;33m]\u001b[0m\u001b[1;33m=\u001b[0m\u001b[0mtrain_accuracy\u001b[0m\u001b[1;33m\u001b[0m\u001b[1;33m\u001b[0m\u001b[0m\n\u001b[0;32m    116\u001b[0m       \u001b[0mval_accuracies\u001b[0m\u001b[1;33m[\u001b[0m\u001b[0mnum_epoch\u001b[0m\u001b[1;33m]\u001b[0m\u001b[1;33m=\u001b[0m\u001b[0mval_accuracy\u001b[0m\u001b[1;33m\u001b[0m\u001b[1;33m\u001b[0m\u001b[0m\n",
      "\u001b[1;32m<ipython-input-10-315d4873bbcd>\u001b[0m in \u001b[0;36mget_accuracy\u001b[1;34m(self)\u001b[0m\n\u001b[0;32m     60\u001b[0m \u001b[1;33m\u001b[0m\u001b[0m\n\u001b[0;32m     61\u001b[0m   \u001b[1;32mdef\u001b[0m \u001b[0mget_accuracy\u001b[0m\u001b[1;33m(\u001b[0m\u001b[0mself\u001b[0m\u001b[1;33m)\u001b[0m\u001b[1;33m:\u001b[0m\u001b[1;33m\u001b[0m\u001b[1;33m\u001b[0m\u001b[0m\n\u001b[1;32m---> 62\u001b[1;33m     \u001b[0mY_pred_train\u001b[0m \u001b[1;33m=\u001b[0m \u001b[0mmodel\u001b[0m\u001b[1;33m.\u001b[0m\u001b[0mpredict\u001b[0m\u001b[1;33m(\u001b[0m\u001b[0mX_train\u001b[0m\u001b[1;33m)\u001b[0m\u001b[1;33m\u001b[0m\u001b[1;33m\u001b[0m\u001b[0m\n\u001b[0m\u001b[0;32m     63\u001b[0m     \u001b[0mY_pred_train\u001b[0m \u001b[1;33m=\u001b[0m \u001b[0mnp\u001b[0m\u001b[1;33m.\u001b[0m\u001b[0margmax\u001b[0m\u001b[1;33m(\u001b[0m\u001b[0mY_pred_train\u001b[0m\u001b[1;33m,\u001b[0m\u001b[1;36m1\u001b[0m\u001b[1;33m)\u001b[0m\u001b[1;33m\u001b[0m\u001b[1;33m\u001b[0m\u001b[0m\n\u001b[0;32m     64\u001b[0m     \u001b[0mY_pred_val\u001b[0m \u001b[1;33m=\u001b[0m \u001b[0mmodel\u001b[0m\u001b[1;33m.\u001b[0m\u001b[0mpredict\u001b[0m\u001b[1;33m(\u001b[0m\u001b[0mX_val\u001b[0m\u001b[1;33m)\u001b[0m\u001b[1;33m\u001b[0m\u001b[1;33m\u001b[0m\u001b[0m\n",
      "\u001b[1;31mNameError\u001b[0m: name 'model' is not defined"
     ]
    }
   ],
   "source": [
    "ffn = FFNetwork()\n",
    "ffn.fit(X_train, Y_OH_train)"
   ]
  },
  {
   "cell_type": "code",
   "execution_count": 13,
   "metadata": {
    "colab": {},
    "colab_type": "code",
    "id": "8FvLwb6u76X1"
   },
   "outputs": [
    {
     "ename": "NameError",
     "evalue": "name 'FFN' is not defined",
     "output_type": "error",
     "traceback": [
      "\u001b[1;31m---------------------------------------------------------------------------\u001b[0m",
      "\u001b[1;31mNameError\u001b[0m                                 Traceback (most recent call last)",
      "\u001b[1;32m<ipython-input-13-1d6988c0430f>\u001b[0m in \u001b[0;36m<module>\u001b[1;34m\u001b[0m\n\u001b[1;32m----> 1\u001b[1;33m \u001b[0mffn\u001b[0m \u001b[1;33m=\u001b[0m \u001b[0mFFN\u001b[0m\u001b[1;33m(\u001b[0m\u001b[1;33m)\u001b[0m\u001b[1;33m\u001b[0m\u001b[1;33m\u001b[0m\u001b[0m\n\u001b[0m\u001b[0;32m      2\u001b[0m \u001b[0mffn\u001b[0m\u001b[1;33m.\u001b[0m\u001b[0mgrad\u001b[0m\u001b[1;33m(\u001b[0m\u001b[0mX_train\u001b[0m\u001b[1;33m,\u001b[0m \u001b[0mY_OH_train\u001b[0m\u001b[1;33m)\u001b[0m\u001b[1;33m\u001b[0m\u001b[1;33m\u001b[0m\u001b[0m\n",
      "\u001b[1;31mNameError\u001b[0m: name 'FFN' is not defined"
     ]
    }
   ],
   "source": [
    "ffn = FFN()\n",
    "ffn.grad(X_train, Y_OH_train)"
   ]
  },
  {
   "cell_type": "code",
   "execution_count": 16,
   "metadata": {
    "colab": {
     "base_uri": "https://localhost:8080/",
     "height": 50
    },
    "colab_type": "code",
    "executionInfo": {
     "elapsed": 2351,
     "status": "ok",
     "timestamp": 1587463510989,
     "user": {
      "displayName": "shah krishna",
      "photoUrl": "",
      "userId": "02285464088952770387"
     },
     "user_tz": -330
    },
    "id": "7kMHuABgE74M",
    "outputId": "f589922f-68cd-47ee-d705-12e81a6bbef6"
   },
   "outputs": [
    {
     "name": "stdout",
     "output_type": "stream",
     "text": [
      "[[1. 1. 1.]\n",
      " [1. 1. 1.]]\n"
     ]
    }
   ],
   "source": [
    "X = np.ones((2, 3))\n",
    "print(X)"
   ]
  },
  {
   "cell_type": "code",
   "execution_count": 17,
   "metadata": {
    "colab": {
     "base_uri": "https://localhost:8080/",
     "height": 50
    },
    "colab_type": "code",
    "executionInfo": {
     "elapsed": 936,
     "status": "ok",
     "timestamp": 1587463510992,
     "user": {
      "displayName": "shah krishna",
      "photoUrl": "",
      "userId": "02285464088952770387"
     },
     "user_tz": -330
    },
    "id": "maRWFItrFNYa",
    "outputId": "df659f5b-6b42-465f-9d29-3976b0f65eb6"
   },
   "outputs": [
    {
     "name": "stdout",
     "output_type": "stream",
     "text": [
      "[[2.71828183 2.71828183 2.71828183]\n",
      " [2.71828183 2.71828183 2.71828183]]\n"
     ]
    }
   ],
   "source": [
    "exps = np.exp(X)\n",
    "print(exps)"
   ]
  },
  {
   "cell_type": "code",
   "execution_count": 18,
   "metadata": {
    "colab": {
     "base_uri": "https://localhost:8080/",
     "height": 34
    },
    "colab_type": "code",
    "executionInfo": {
     "elapsed": 1315,
     "status": "ok",
     "timestamp": 1587463516031,
     "user": {
      "displayName": "shah krishna",
      "photoUrl": "",
      "userId": "02285464088952770387"
     },
     "user_tz": -330
    },
    "id": "VqW5DTaE-FMq",
    "outputId": "c6ab6844-d130-4cfb-99a4-865a3162aeb3"
   },
   "outputs": [
    {
     "name": "stdout",
     "output_type": "stream",
     "text": [
      "[5.43656366 5.43656366 5.43656366]\n"
     ]
    }
   ],
   "source": [
    "sum_exps = np.sum(exps, axis = 0)\n",
    "print(sum_exps)\n",
    "#res = exps / sum_exps\n",
    "#print(res)"
   ]
  },
  {
   "cell_type": "code",
   "execution_count": null,
   "metadata": {},
   "outputs": [],
   "source": []
  }
 ],
 "metadata": {
  "colab": {
   "authorship_tag": "ABX9TyO3gsVSewziewKwORn+Wxm/",
   "collapsed_sections": [],
   "name": "Practice_Regularization.ipynb",
   "provenance": []
  },
  "kernelspec": {
   "display_name": "Python 3",
   "language": "python",
   "name": "python3"
  },
  "language_info": {
   "codemirror_mode": {
    "name": "ipython",
    "version": 3
   },
   "file_extension": ".py",
   "mimetype": "text/x-python",
   "name": "python",
   "nbconvert_exporter": "python",
   "pygments_lexer": "ipython3",
   "version": "3.7.1"
  }
 },
 "nbformat": 4,
 "nbformat_minor": 1
}
