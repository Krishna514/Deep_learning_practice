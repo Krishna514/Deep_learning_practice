{
 "cells": [
  {
   "cell_type": "code",
   "execution_count": 0,
   "metadata": {
    "colab": {},
    "colab_type": "code",
    "id": "uF0N6_492PEe"
   },
   "outputs": [],
   "source": [
    "import numpy as np\n",
    "import matplotlib.pyplot as plt\n",
    "import torch"
   ]
  },
  {
   "cell_type": "code",
   "execution_count": 2,
   "metadata": {
    "colab": {
     "base_uri": "https://localhost:8080/",
     "height": 82,
     "referenced_widgets": [
      "ef3de028f221496abc3a6974fc388f6b",
      "4195d4f87bf54ee9a15f086563315f96",
      "5b2c5f0f56ae4e5f824d1c466becdcfc",
      "b05af45e7deb4aa7963335afca2e41d7",
      "3ec720df1d264c92b4b0def4d37c3220",
      "e97880c2a5824cbc886691a1f76f532c",
      "c334530070464950b39f79afaa34a4b7",
      "4b3fd848d9aa44a48250a38391ac5704"
     ]
    },
    "colab_type": "code",
    "executionInfo": {
     "elapsed": 13836,
     "status": "ok",
     "timestamp": 1587749361607,
     "user": {
      "displayName": "shah krishna",
      "photoUrl": "",
      "userId": "02285464088952770387"
     },
     "user_tz": -330
    },
    "id": "8_qxMi062s46",
    "outputId": "58042527-e984-4f61-d6be-059d09bc17f8"
   },
   "outputs": [
    {
     "name": "stdout",
     "output_type": "stream",
     "text": [
      "Downloading https://www.cs.toronto.edu/~kriz/cifar-10-python.tar.gz to ./data/cifar-10-python.tar.gz\n"
     ]
    },
    {
     "data": {
      "application/vnd.jupyter.widget-view+json": {
       "model_id": "ef3de028f221496abc3a6974fc388f6b",
       "version_major": 2,
       "version_minor": 0
      },
      "text/plain": [
       "HBox(children=(IntProgress(value=1, bar_style='info', max=1), HTML(value='')))"
      ]
     },
     "metadata": {
      "tags": []
     },
     "output_type": "display_data"
    },
    {
     "name": "stdout",
     "output_type": "stream",
     "text": [
      "Extracting ./data/cifar-10-python.tar.gz to ./data\n"
     ]
    }
   ],
   "source": [
    "import torchvision\n",
    "import torchvision.transforms as transforms\n",
    "trainset = torchvision.datasets.CIFAR10(root='./data', train=True, transform=transforms.ToTensor(), download=True)"
   ]
  },
  {
   "cell_type": "code",
   "execution_count": 0,
   "metadata": {
    "colab": {},
    "colab_type": "code",
    "id": "GcM8TOPn2hpB"
   },
   "outputs": [],
   "source": [
    "classes = ('plane', 'car', 'bird', 'cat', 'deer', 'dog', 'frog', 'horse', 'ship', 'truck')"
   ]
  },
  {
   "cell_type": "code",
   "execution_count": 0,
   "metadata": {
    "colab": {},
    "colab_type": "code",
    "id": "KacbFHzx3a8f"
   },
   "outputs": [],
   "source": [
    "trainloader = torch.utils.data.DataLoader(trainset, batch_size=4, shuffle=True)"
   ]
  },
  {
   "cell_type": "code",
   "execution_count": 5,
   "metadata": {
    "colab": {
     "base_uri": "https://localhost:8080/",
     "height": 101
    },
    "colab_type": "code",
    "executionInfo": {
     "elapsed": 13784,
     "status": "ok",
     "timestamp": 1587749361613,
     "user": {
      "displayName": "shah krishna",
      "photoUrl": "",
      "userId": "02285464088952770387"
     },
     "user_tz": -330
    },
    "id": "eci56LuB3k-H",
    "outputId": "2e93eab3-2b26-4b57-9ec3-b8e6065c1286"
   },
   "outputs": [
    {
     "name": "stdout",
     "output_type": "stream",
     "text": [
      "torch.Size([4, 3, 32, 32])\n",
      "6\n",
      "5\n",
      "5\n",
      "2\n"
     ]
    }
   ],
   "source": [
    "dataiter = iter(trainloader)\n",
    "images, labels = dataiter.next()\n",
    "\n",
    "print(images.shape)\n",
    "\n",
    "for i in range(4):\n",
    "  print(labels[i].item())"
   ]
  },
  {
   "cell_type": "code",
   "execution_count": 6,
   "metadata": {
    "colab": {
     "base_uri": "https://localhost:8080/",
     "height": 34
    },
    "colab_type": "code",
    "executionInfo": {
     "elapsed": 13756,
     "status": "ok",
     "timestamp": 1587749361616,
     "user": {
      "displayName": "shah krishna",
      "photoUrl": "",
      "userId": "02285464088952770387"
     },
     "user_tz": -330
    },
    "id": "hTlsoZGa4d-6",
    "outputId": "93b9f79f-689e-4830-f2c3-862a1aaca985"
   },
   "outputs": [
    {
     "data": {
      "text/plain": [
       "torch.Tensor"
      ]
     },
     "execution_count": 6,
     "metadata": {
      "tags": []
     },
     "output_type": "execute_result"
    }
   ],
   "source": [
    "image = images[0]\n",
    "type(image)"
   ]
  },
  {
   "cell_type": "code",
   "execution_count": 7,
   "metadata": {
    "colab": {
     "base_uri": "https://localhost:8080/",
     "height": 34
    },
    "colab_type": "code",
    "executionInfo": {
     "elapsed": 13727,
     "status": "ok",
     "timestamp": 1587749361618,
     "user": {
      "displayName": "shah krishna",
      "photoUrl": "",
      "userId": "02285464088952770387"
     },
     "user_tz": -330
    },
    "id": "IVhQ2F6f7Lr7",
    "outputId": "8d2a367b-e72c-4f4f-ff39-86f1db41d97d"
   },
   "outputs": [
    {
     "data": {
      "text/plain": [
       "(32, 32, 3)"
      ]
     },
     "execution_count": 7,
     "metadata": {
      "tags": []
     },
     "output_type": "execute_result"
    }
   ],
   "source": [
    "npimg = image.numpy()\n",
    "npimg = np.transpose(npimg, (1, 2, 0))\n",
    "npimg.shape"
   ]
  },
  {
   "cell_type": "code",
   "execution_count": 8,
   "metadata": {
    "colab": {
     "base_uri": "https://localhost:8080/",
     "height": 138
    },
    "colab_type": "code",
    "executionInfo": {
     "elapsed": 13699,
     "status": "ok",
     "timestamp": 1587749361620,
     "user": {
      "displayName": "shah krishna",
      "photoUrl": "",
      "userId": "02285464088952770387"
     },
     "user_tz": -330
    },
    "id": "nlkEMqsy8Gfp",
    "outputId": "cff9db91-b0c2-4156-a118-aa2dc92639c0"
   },
   "outputs": [
    {
     "name": "stdout",
     "output_type": "stream",
     "text": [
      "\n"
     ]
    },
    {
     "data": {
      "image/png": "[encoded data removed]",
      "text/plain": [
       "<Figure size 72x72 with 1 Axes>"
      ]
     },
     "metadata": {
      "needs_background": "light",
      "tags": []
     },
     "output_type": "display_data"
    },
    {
     "name": "stdout",
     "output_type": "stream",
     "text": [
      "frog\n"
     ]
    }
   ],
   "source": [
    "plt.figure(figsize=(1, 1))\n",
    "plt.imshow(npimg)\n",
    "plt.show()\n",
    "print(classes[labels[0]])"
   ]
  },
  {
   "cell_type": "code",
   "execution_count": 0,
   "metadata": {
    "colab": {},
    "colab_type": "code",
    "id": "vwwt-zIO8eeH"
   },
   "outputs": [],
   "source": [
    "def imageshow(img):\n",
    "  npimg = img.numpy()\n",
    "  npimg = np.transpose(npimg, (1, 2, 0))\n",
    "  plt.imshow(npimg)\n",
    "  plt.show()"
   ]
  },
  {
   "cell_type": "code",
   "execution_count": 10,
   "metadata": {
    "colab": {
     "base_uri": "https://localhost:8080/",
     "height": 155
    },
    "colab_type": "code",
    "executionInfo": {
     "elapsed": 13650,
     "status": "ok",
     "timestamp": 1587749361622,
     "user": {
      "displayName": "shah krishna",
      "photoUrl": "",
      "userId": "02285464088952770387"
     },
     "user_tz": -330
    },
    "id": "rGINpU9i81Id",
    "outputId": "b5402119-da4d-4e34-c006-32401601fd09"
   },
   "outputs": [
    {
     "data": {
      "image/png": "[encoded data removed]",
      "text/plain": [
       "<Figure size 432x288 with 1 Axes>"
      ]
     },
     "metadata": {
      "needs_background": "light",
      "tags": []
     },
     "output_type": "display_data"
    },
    {
     "name": "stdout",
     "output_type": "stream",
     "text": [
      "frog          dog          dog          bird\n"
     ]
    }
   ],
   "source": [
    "imageshow(torchvision.utils.make_grid(images))\n",
    "print('          '.join(classes[labels[j]] for j in range(4)))"
   ]
  },
  {
   "cell_type": "code",
   "execution_count": 0,
   "metadata": {
    "colab": {},
    "colab_type": "code",
    "id": "Bd79VwYo9fb4"
   },
   "outputs": [],
   "source": [
    "import torch.nn as nn\n",
    "class FirstCNN(nn.Module):\n",
    "  def __init__(self):\n",
    "    super(FirstCNN, self).__init__()\n",
    "    self.conv1 = nn.Conv2d(3, 16, 3, padding=1, stride=2)\n",
    "  \n",
    "  def forward(self, x):\n",
    "    x = self.conv1(x)\n",
    "    return x"
   ]
  },
  {
   "cell_type": "code",
   "execution_count": 12,
   "metadata": {
    "colab": {
     "base_uri": "https://localhost:8080/",
     "height": 34
    },
    "colab_type": "code",
    "executionInfo": {
     "elapsed": 13605,
     "status": "ok",
     "timestamp": 1587749361624,
     "user": {
      "displayName": "shah krishna",
      "photoUrl": "",
      "userId": "02285464088952770387"
     },
     "user_tz": -330
    },
    "id": "HPNYK8AJETat",
    "outputId": "88cb4c48-092d-4994-a7e9-75665e7d5449"
   },
   "outputs": [
    {
     "data": {
      "text/plain": [
       "torch.Size([4, 16, 16, 16])"
      ]
     },
     "execution_count": 12,
     "metadata": {
      "tags": []
     },
     "output_type": "execute_result"
    }
   ],
   "source": [
    "net = FirstCNN()\n",
    "out = net(images)\n",
    "out.shape"
   ]
  },
  {
   "cell_type": "code",
   "execution_count": 13,
   "metadata": {
    "colab": {
     "base_uri": "https://localhost:8080/",
     "height": 265
    },
    "colab_type": "code",
    "executionInfo": {
     "elapsed": 14321,
     "status": "ok",
     "timestamp": 1587749362373,
     "user": {
      "displayName": "shah krishna",
      "photoUrl": "",
      "userId": "02285464088952770387"
     },
     "user_tz": -330
    },
    "id": "f2Xii-SKFqm8",
    "outputId": "4cd99a17-24a5-44b9-a6f2-f014bcb3114c"
   },
   "outputs": [
    {
     "data": {
      "image/png": "[encoded data removed]",
      "text/plain": [
       "<Figure size 432x288 with 1 Axes>"
      ]
     },
     "metadata": {
      "needs_background": "light",
      "tags": []
     },
     "output_type": "display_data"
    }
   ],
   "source": [
    "out1 = out[1, 0, :, :].detach().numpy()\n",
    "plt.imshow(out1)\n",
    "plt.show()"
   ]
  },
  {
   "cell_type": "code",
   "execution_count": 14,
   "metadata": {
    "colab": {
     "base_uri": "https://localhost:8080/",
     "height": 50
    },
    "colab_type": "code",
    "executionInfo": {
     "elapsed": 14271,
     "status": "ok",
     "timestamp": 1587749362376,
     "user": {
      "displayName": "shah krishna",
      "photoUrl": "",
      "userId": "02285464088952770387"
     },
     "user_tz": -330
    },
    "id": "m-lhESEKHiW3",
    "outputId": "3678a938-13ea-4da6-d10f-d76ec74bbc2c"
   },
   "outputs": [
    {
     "name": "stdout",
     "output_type": "stream",
     "text": [
      "torch.Size([16, 3, 3, 3])\n",
      "torch.Size([16])\n"
     ]
    }
   ],
   "source": [
    "for params in net.parameters():\n",
    "  print(params.shape)"
   ]
  },
  {
   "cell_type": "code",
   "execution_count": 0,
   "metadata": {
    "colab": {},
    "colab_type": "code",
    "id": "MEaDtJVVHzpO"
   },
   "outputs": [],
   "source": [
    "class FirstCNN_v2(nn.Module):\n",
    "  def __init__(self):\n",
    "    super(FirstCNN_v2, self).__init__()\n",
    "    self.net = nn.Sequential(\n",
    "        nn.Conv2d(3, 8, 3),      # (N, 3, 32, 32) -> (N, 8, 30, 30)\n",
    "        nn.Conv2d(8, 16, 3)     # (N, 8, 30, 30) -> (N, 16, 28, 28)\n",
    "    )\n",
    "  \n",
    "  def forward(self, x):\n",
    "    x = self.net(x)\n",
    "    return x"
   ]
  },
  {
   "cell_type": "code",
   "execution_count": 16,
   "metadata": {
    "colab": {
     "base_uri": "https://localhost:8080/",
     "height": 34
    },
    "colab_type": "code",
    "executionInfo": {
     "elapsed": 14194,
     "status": "ok",
     "timestamp": 1587749362378,
     "user": {
      "displayName": "shah krishna",
      "photoUrl": "",
      "userId": "02285464088952770387"
     },
     "user_tz": -330
    },
    "id": "XBXuE-wPRnhd",
    "outputId": "964e1c6d-bb21-4e5e-b1f8-41b1b51a4fd2"
   },
   "outputs": [
    {
     "data": {
      "text/plain": [
       "torch.Tensor"
      ]
     },
     "execution_count": 16,
     "metadata": {
      "tags": []
     },
     "output_type": "execute_result"
    }
   ],
   "source": [
    "net2 = FirstCNN_v2()\n",
    "out = net2(images)\n",
    "out.shape\n",
    "type(out)"
   ]
  },
  {
   "cell_type": "code",
   "execution_count": 17,
   "metadata": {
    "colab": {
     "base_uri": "https://localhost:8080/",
     "height": 265
    },
    "colab_type": "code",
    "executionInfo": {
     "elapsed": 14167,
     "status": "ok",
     "timestamp": 1587749362379,
     "user": {
      "displayName": "shah krishna",
      "photoUrl": "",
      "userId": "02285464088952770387"
     },
     "user_tz": -330
    },
    "id": "HGkG7FfBR7MI",
    "outputId": "066807cf-b15a-4224-8208-c81715fb661b"
   },
   "outputs": [
    {
     "data": {
      "image/png": "[encoded data removed]",
      "text/plain": [
       "<Figure size 432x288 with 1 Axes>"
      ]
     },
     "metadata": {
      "needs_background": "light",
      "tags": []
     },
     "output_type": "display_data"
    }
   ],
   "source": [
    "out1 = out[0, 2, :, :].detach().numpy()\n",
    "plt.imshow(out1)\n",
    "plt.show()"
   ]
  },
  {
   "cell_type": "code",
   "execution_count": 0,
   "metadata": {
    "colab": {},
    "colab_type": "code",
    "id": "NejVfjYZSOgS"
   },
   "outputs": [],
   "source": [
    "class FirstCNN_v3(nn.Module):\n",
    "  def __init__(self):\n",
    "    super(FirstCNN_v3, self).__init__()\n",
    "    self.net = nn.Sequential(\n",
    "      nn.Conv2d(3, 6, 5),   # (N, 3, 32, 32) -> (N, 6, 28, 28)\n",
    "      nn.AvgPool2d(2, stride=2), # (N, 6, 28, 28) -> (N, 6, 14, 14)\n",
    "      nn.Conv2d(6, 16, 5),    # (N, 6, 14, 14) -> (N, 16, 10, 10)\n",
    "      nn.MaxPool2d(2, stride = 2)  # (N, 16, 10, 10) -> (N, 16, 5, 5) \n",
    "    )\n",
    "\n",
    "  def forward(self, x):\n",
    "    x = self.net(x)\n",
    "    return x"
   ]
  },
  {
   "cell_type": "code",
   "execution_count": 19,
   "metadata": {
    "colab": {
     "base_uri": "https://localhost:8080/",
     "height": 34
    },
    "colab_type": "code",
    "executionInfo": {
     "elapsed": 14127,
     "status": "ok",
     "timestamp": 1587749362380,
     "user": {
      "displayName": "shah krishna",
      "photoUrl": "",
      "userId": "02285464088952770387"
     },
     "user_tz": -330
    },
    "id": "YQI5SIU2T1wJ",
    "outputId": "eee89b69-d731-4dbf-c323-c063a85c4d1b"
   },
   "outputs": [
    {
     "data": {
      "text/plain": [
       "torch.Tensor"
      ]
     },
     "execution_count": 19,
     "metadata": {
      "tags": []
     },
     "output_type": "execute_result"
    }
   ],
   "source": [
    "net3 = FirstCNN_v3()\n",
    "out3 = net3(images)\n",
    "out3.shape\n",
    "type(out3)"
   ]
  },
  {
   "cell_type": "code",
   "execution_count": 20,
   "metadata": {
    "colab": {
     "base_uri": "https://localhost:8080/",
     "height": 265
    },
    "colab_type": "code",
    "executionInfo": {
     "elapsed": 14112,
     "status": "ok",
     "timestamp": 1587749362382,
     "user": {
      "displayName": "shah krishna",
      "photoUrl": "",
      "userId": "02285464088952770387"
     },
     "user_tz": -330
    },
    "id": "3mN0VywnUA64",
    "outputId": "5fdb417d-2f74-4534-ada5-afd5d1f540f6"
   },
   "outputs": [
    {
     "data": {
      "image/png": "[encoded data removed]",
      "text/plain": [
       "<Figure size 432x288 with 1 Axes>"
      ]
     },
     "metadata": {
      "needs_background": "light",
      "tags": []
     },
     "output_type": "display_data"
    }
   ],
   "source": [
    "out1 = out3[0, 2, :, :].detach().numpy()\n",
    "plt.imshow(out1)\n",
    "plt.show()"
   ]
  },
  {
   "cell_type": "code",
   "execution_count": 0,
   "metadata": {
    "colab": {},
    "colab_type": "code",
    "id": "18rnDj5fUOrp"
   },
   "outputs": [],
   "source": [
    "class LeNet(nn.Module):\n",
    "  def __init__(self):\n",
    "    super(LeNet, self).__init__()\n",
    "    self.cnn_model = nn.Sequential(\n",
    "        nn.Conv2d(3, 6, 5),     # (N, 3, 32, 32) -> (N, 6, 28, 28)\n",
    "        nn.Tanh(),\n",
    "        nn.MaxPool2d(2, stride = 2),      # (N, 6, 28, 28) -> (N, 6, 14, 14)\n",
    "        nn.Conv2d(6, 16, 5),            # (N, 6, 14, 14) -> (N, 16, 10, 10)\n",
    "        nn.Tanh(),\n",
    "        nn.MaxPool2d(2, stride=2)         # (N, 16, 10, 10) -> (N, 16, 5, 5)\n",
    "        )\n",
    "    self.fc_model = nn.Sequential(\n",
    "        nn.Linear(400, 120),    # (N, 400) -> (N, 120)\n",
    "        nn.Tanh(),\n",
    "        nn.Linear(120, 84),     # (N, 120) -> (N, 84)\n",
    "        nn.Tanh(),\n",
    "        nn.Linear(84, 10)       # (N, 84) -> (N, 10)\n",
    "        )\n",
    "    \n",
    "  def forward(self, x):\n",
    "      print(x.shape)\n",
    "      x = self.cnn_model(x)\n",
    "      print(x.shape)\n",
    "      x = x.view(x.shape[0], -1)\n",
    "      print(x.shape)\n",
    "      x = self.fc_model(x)\n",
    "      print(x.shape)\n",
    "      return x\n"
   ]
  },
  {
   "cell_type": "code",
   "execution_count": 78,
   "metadata": {
    "colab": {
     "base_uri": "https://localhost:8080/",
     "height": 84
    },
    "colab_type": "code",
    "executionInfo": {
     "elapsed": 3883,
     "status": "ok",
     "timestamp": 1587751819006,
     "user": {
      "displayName": "shah krishna",
      "photoUrl": "",
      "userId": "02285464088952770387"
     },
     "user_tz": -330
    },
    "id": "h4kpZxW_T-UR",
    "outputId": "1111c10e-7f9a-45e5-e55a-13156eb7c411"
   },
   "outputs": [
    {
     "name": "stdout",
     "output_type": "stream",
     "text": [
      "torch.Size([4, 3, 32, 32])\n",
      "torch.Size([4, 16, 5, 5])\n",
      "torch.Size([4, 400])\n",
      "torch.Size([4, 10])\n"
     ]
    }
   ],
   "source": [
    "net = LeNet()\n",
    "out = net(images)"
   ]
  },
  {
   "cell_type": "code",
   "execution_count": 23,
   "metadata": {
    "colab": {
     "base_uri": "https://localhost:8080/",
     "height": 151
    },
    "colab_type": "code",
    "executionInfo": {
     "elapsed": 14082,
     "status": "ok",
     "timestamp": 1587749362385,
     "user": {
      "displayName": "shah krishna",
      "photoUrl": "",
      "userId": "02285464088952770387"
     },
     "user_tz": -330
    },
    "id": "s8T5dzwsc98X",
    "outputId": "d5835845-6fcb-495d-d6dd-2458bfade295"
   },
   "outputs": [
    {
     "name": "stdout",
     "output_type": "stream",
     "text": [
      "tensor([[-0.1027, -0.1592,  0.0900, -0.1338, -0.0361, -0.1060,  0.0727,  0.0165,\n",
      "          0.0258,  0.1754],\n",
      "        [-0.0988, -0.1453,  0.0709, -0.1314, -0.0243, -0.1048,  0.0654,  0.0013,\n",
      "          0.0240,  0.1510],\n",
      "        [-0.0936, -0.1350,  0.0942, -0.1294, -0.0380, -0.0899,  0.0720,  0.0296,\n",
      "          0.0247,  0.1637],\n",
      "        [-0.0886, -0.1291,  0.0940, -0.1322, -0.0463, -0.0993,  0.0710,  0.0235,\n",
      "          0.0347,  0.1574]], grad_fn=<AddmmBackward>)\n"
     ]
    }
   ],
   "source": [
    "print(out)"
   ]
  },
  {
   "cell_type": "code",
   "execution_count": 24,
   "metadata": {
    "colab": {
     "base_uri": "https://localhost:8080/",
     "height": 34
    },
    "colab_type": "code",
    "executionInfo": {
     "elapsed": 14073,
     "status": "ok",
     "timestamp": 1587749362386,
     "user": {
      "displayName": "shah krishna",
      "photoUrl": "",
      "userId": "02285464088952770387"
     },
     "user_tz": -330
    },
    "id": "4xr3ULGxdFUe",
    "outputId": "dcdbda84-dfc5-4dc6-a516-5a6cfed46c4e"
   },
   "outputs": [
    {
     "name": "stdout",
     "output_type": "stream",
     "text": [
      "tensor([9, 9, 9, 9])\n"
     ]
    }
   ],
   "source": [
    "max_value, classes = torch.max(out, axis = 1)\n",
    "print(classes)"
   ]
  },
  {
   "cell_type": "code",
   "execution_count": 25,
   "metadata": {
    "colab": {
     "base_uri": "https://localhost:8080/",
     "height": 99,
     "referenced_widgets": [
      "8b107b0100d94af4b73e326c229a1263",
      "887e5a1e340446d2ba58da0554874994",
      "1469d12ffbc149428e50878ae435ce7c",
      "921597b279434e7ca2c0f4a66f0c073b",
      "d2f34dd50b5f406381fd8022d9e42fc8",
      "7a9c765b2f6a4b8e9c8b7ea619d0c486",
      "30a518040899458f93e4be0d06b5ab33",
      "cda7fad80adb44cca8ef6f4173cc0c92"
     ]
    },
    "colab_type": "code",
    "executionInfo": {
     "elapsed": 22913,
     "status": "ok",
     "timestamp": 1587749371274,
     "user": {
      "displayName": "shah krishna",
      "photoUrl": "",
      "userId": "02285464088952770387"
     },
     "user_tz": -330
    },
    "id": "6K7kIlKgdibf",
    "outputId": "f28629dc-405a-4824-8645-939234496bf9"
   },
   "outputs": [
    {
     "name": "stdout",
     "output_type": "stream",
     "text": [
      "Downloading https://www.cs.toronto.edu/~kriz/cifar-10-python.tar.gz to :/data/cifar-10-python.tar.gz\n"
     ]
    },
    {
     "data": {
      "application/vnd.jupyter.widget-view+json": {
       "model_id": "8b107b0100d94af4b73e326c229a1263",
       "version_major": 2,
       "version_minor": 0
      },
      "text/plain": [
       "HBox(children=(IntProgress(value=1, bar_style='info', max=1), HTML(value='')))"
      ]
     },
     "metadata": {
      "tags": []
     },
     "output_type": "display_data"
    },
    {
     "name": "stdout",
     "output_type": "stream",
     "text": [
      "Extracting :/data/cifar-10-python.tar.gz to :/data\n",
      "Files already downloaded and verified\n"
     ]
    }
   ],
   "source": [
    "BS = 128\n",
    "trainset = torchvision.datasets.CIFAR10(root=':/data', train=True, transform=transforms.ToTensor(), download=True)\n",
    "trainloader = torch.utils.data.DataLoader(trainset, batch_size=BS, shuffle=True)\n",
    "testset = torchvision.datasets.CIFAR10(root=':/data', train=False, transform=transforms.ToTensor(), download=True)\n",
    "testloader = torch.utils.data.DataLoader(testset, shuffle=False, batch_size=BS)"
   ]
  },
  {
   "cell_type": "code",
   "execution_count": 0,
   "metadata": {
    "colab": {},
    "colab_type": "code",
    "id": "UeqPsOw1_-uz"
   },
   "outputs": [],
   "source": [
    "class LeNet(nn.Module):\n",
    "  def __init__(self):\n",
    "    super(LeNet, self).__init__()\n",
    "    self.cnn_model = nn.Sequential(\n",
    "        nn.Conv2d(3, 6, 5),     # (N, 3, 32, 32) -> (N, 6, 28, 28)\n",
    "        nn.ReLU(),\n",
    "        nn.AvgPool2d(2, stride = 2),      # (N, 6, 28, 28) -> (N, 6, 14, 14)\n",
    "        nn.Conv2d(6, 16, 5),            # (N, 6, 14, 14) -> (N, 16, 10, 10)\n",
    "        nn.ReLU(),\n",
    "        nn.AvgPool2d(2, stride=2)         # (N, 16, 10, 10) -> (N, 16, 5, 5)\n",
    "        )\n",
    "    self.fc_model = nn.Sequential(\n",
    "        nn.Linear(400, 120),    # (N, 400) -> (N, 120)\n",
    "        nn.Tanh(),\n",
    "        nn.Linear(120, 84),     # (N, 120) -> (N, 84)\n",
    "        nn.Tanh(),\n",
    "        nn.Linear(84, 10)       # (N, 84) -> (N, 10)\n",
    "        )\n",
    "    \n",
    "  def forward(self, x):\n",
    "      x = self.cnn_model(x)\n",
    "      x = x.view(x.shape[0], -1)\n",
    "      x = self.fc_model(x)\n",
    "      return x"
   ]
  },
  {
   "cell_type": "code",
   "execution_count": 0,
   "metadata": {
    "colab": {},
    "colab_type": "code",
    "id": "eQt49bqZ_QAr"
   },
   "outputs": [],
   "source": [
    "net = LeNet()"
   ]
  },
  {
   "cell_type": "code",
   "execution_count": 0,
   "metadata": {
    "colab": {},
    "colab_type": "code",
    "id": "29U5V8fwGL2J"
   },
   "outputs": [],
   "source": [
    "def evaluate(dataloader):\n",
    "  total, correct = 0, 0\n",
    "  for data in dataloader:\n",
    "    inputs, labels = data\n",
    "    output = net(inputs)\n",
    "    _, pred = torch.max(output.data, 1)\n",
    "    total += labels.size(0)\n",
    "    correct += (pred == labels).sum().item()\n",
    "  return 100 * correct / total"
   ]
  },
  {
   "cell_type": "code",
   "execution_count": 29,
   "metadata": {
    "colab": {
     "base_uri": "https://localhost:8080/",
     "height": 34
    },
    "colab_type": "code",
    "executionInfo": {
     "elapsed": 22883,
     "status": "ok",
     "timestamp": 1587749371281,
     "user": {
      "displayName": "shah krishna",
      "photoUrl": "",
      "userId": "02285464088952770387"
     },
     "user_tz": -330
    },
    "id": "vdPEwjzQHJTq",
    "outputId": "be73d5f1-8c9b-4774-82d6-321ed42ddc02"
   },
   "outputs": [
    {
     "name": "stdout",
     "output_type": "stream",
     "text": [
      "\n"
     ]
    }
   ],
   "source": [
    "import torch.optim as optim\n",
    "\n",
    "loss_fn = nn.CrossEntropyLoss()\n",
    "opt = optim.Adam(net.parameters())"
   ]
  },
  {
   "cell_type": "code",
   "execution_count": 30,
   "metadata": {
    "colab": {
     "base_uri": "https://localhost:8080/",
     "height": 282
    },
    "colab_type": "code",
    "executionInfo": {
     "elapsed": 111003,
     "status": "ok",
     "timestamp": 1587749459428,
     "user": {
      "displayName": "shah krishna",
      "photoUrl": "",
      "userId": "02285464088952770387"
     },
     "user_tz": -330
    },
    "id": "udDC20W4Ha67",
    "outputId": "a3c218d3-792d-4699-b429-00be248c3398"
   },
   "outputs": [
    {
     "data": {
      "image/png": "[encoded data removed]",
      "text/plain": [
       "<Figure size 432x288 with 1 Axes>"
      ]
     },
     "metadata": {
      "needs_background": "light",
      "tags": []
     },
     "output_type": "display_data"
    },
    {
     "name": "stdout",
     "output_type": "stream",
     "text": [
      "train and test accuracy 10.0 10.0\n"
     ]
    }
   ],
   "source": [
    "loss_arr = []\n",
    "loss_arr_epoch = []\n",
    "epochs = 5\n",
    "for epoch in range(epochs):\n",
    "  for i, data in enumerate(trainloader, 0):\n",
    "\n",
    "    inputs, labels = data\n",
    "    \n",
    "    opt.zero_grad\n",
    "    output = net(inputs)\n",
    "    loss = (loss_fn(output, labels))\n",
    "    loss.backward()\n",
    "    opt.step()\n",
    "\n",
    "    loss_arr.append(loss.item())\n",
    "  loss_arr_epoch.append(loss.item())\n",
    "\n",
    "plt.plot(loss_arr_epoch)\n",
    "plt.show()\n",
    "print('train and test accuracy', evaluate(trainloader), evaluate(testloader))"
   ]
  },
  {
   "cell_type": "code",
   "execution_count": 38,
   "metadata": {
    "colab": {
     "base_uri": "https://localhost:8080/",
     "height": 34
    },
    "colab_type": "code",
    "executionInfo": {
     "elapsed": 1422,
     "status": "ok",
     "timestamp": 1587750215186,
     "user": {
      "displayName": "shah krishna",
      "photoUrl": "",
      "userId": "02285464088952770387"
     },
     "user_tz": -330
    },
    "id": "8TwM8hVFO8AB",
    "outputId": "1ede1643-6731-4069-af5e-3d16d54823c7"
   },
   "outputs": [
    {
     "name": "stdout",
     "output_type": "stream",
     "text": [
      "cuda:0\n"
     ]
    }
   ],
   "source": [
    "device = torch.device('cuda:0')\n",
    "print(device)"
   ]
  },
  {
   "cell_type": "code",
   "execution_count": 0,
   "metadata": {
    "colab": {},
    "colab_type": "code",
    "id": "L-VDjTJLPJX_"
   },
   "outputs": [],
   "source": [
    "def evaluation(dataloader):\n",
    "  total, correct = 0, 0\n",
    "  for data in dataloader:\n",
    "    inputs, labels = data\n",
    "    inputs, labels = inputs.to(device), labels.to(device)\n",
    "    output = net(inputs)\n",
    "    _, pred = torch.max(output, 1)\n",
    "    total += output.size(0)\n",
    "    correct += (labels == pred).sum().item()\n",
    "    return 100 * correct / total"
   ]
  },
  {
   "cell_type": "code",
   "execution_count": 0,
   "metadata": {
    "colab": {},
    "colab_type": "code",
    "id": "UA5-H8BsQNHD"
   },
   "outputs": [],
   "source": [
    "net = LeNet().to(device)\n",
    "loss_fn = nn.CrossEntropyLoss()\n",
    "opt = optim.Adam(net.parameters())"
   ]
  },
  {
   "cell_type": "code",
   "execution_count": 113,
   "metadata": {
    "colab": {
     "base_uri": "https://localhost:8080/",
     "height": 265
    },
    "colab_type": "code",
    "executionInfo": {
     "elapsed": 39864,
     "status": "ok",
     "timestamp": 1587752942081,
     "user": {
      "displayName": "shah krishna",
      "photoUrl": "",
      "userId": "02285464088952770387"
     },
     "user_tz": -330
    },
    "id": "20JfL33KQcKW",
    "outputId": "0b8101d8-cb6e-41e2-f83d-fefde6752139"
   },
   "outputs": [
    {
     "data": {
      "image/png": "[encoded data removed]",
      "text/plain": [
       "<Figure size 432x288 with 1 Axes>"
      ]
     },
     "metadata": {
      "needs_background": "light",
      "tags": []
     },
     "output_type": "display_data"
    }
   ],
   "source": [
    "loss_arr = []\n",
    "epochs = 7\n",
    "for epoch in range(epochs):\n",
    "  for i, data in enumerate(trainloader, 0):\n",
    "    inputs, labels = data\n",
    "    inputs, labels = inputs.to(device), labels.to(device)\n",
    "    output = net(inputs)\n",
    "    opt.zero_grad()\n",
    "    loss = loss_fn(output, labels)\n",
    "    loss.backward()\n",
    "    opt.step()\n",
    "  loss_arr.append(loss.item())\n",
    "\n",
    "plt.plot(loss_arr)\n",
    "plt.show()"
   ]
  },
  {
   "cell_type": "code",
   "execution_count": 114,
   "metadata": {
    "colab": {
     "base_uri": "https://localhost:8080/",
     "height": 34
    },
    "colab_type": "code",
    "executionInfo": {
     "elapsed": 7224,
     "status": "ok",
     "timestamp": 1587752958311,
     "user": {
      "displayName": "shah krishna",
      "photoUrl": "",
      "userId": "02285464088952770387"
     },
     "user_tz": -330
    },
    "id": "G-FBxHjbRlCh",
    "outputId": "2bc54e24-8b3a-4bb7-86a2-56df6fea5d4e"
   },
   "outputs": [
    {
     "name": "stdout",
     "output_type": "stream",
     "text": [
      "train and test accuracy 57.124 55.13\n"
     ]
    }
   ],
   "source": [
    "print('train and test accuracy', evaluation(trainloader), evaluation(testloader))"
   ]
  },
  {
   "cell_type": "code",
   "execution_count": 55,
   "metadata": {
    "colab": {
     "base_uri": "https://localhost:8080/",
     "height": 138
    },
    "colab_type": "code",
    "executionInfo": {
     "elapsed": 2373,
     "status": "ok",
     "timestamp": 1587750838415,
     "user": {
      "displayName": "shah krishna",
      "photoUrl": "",
      "userId": "02285464088952770387"
     },
     "user_tz": -330
    },
    "id": "_87jVQ8hS7zg",
    "outputId": "f42d8042-a7d4-4100-c5c4-7336c46750fc"
   },
   "outputs": [
    {
     "data": {
      "image/png": "[encoded data removed]",
      "text/plain": [
       "<Figure size 432x288 with 1 Axes>"
      ]
     },
     "metadata": {
      "needs_background": "light",
      "tags": []
     },
     "output_type": "display_data"
    }
   ],
   "source": [
    "imageshow(torchvision.utils.make_grid(images))"
   ]
  },
  {
   "cell_type": "code",
   "execution_count": 0,
   "metadata": {
    "colab": {},
    "colab_type": "code",
    "id": "VplopMjaUDHd"
   },
   "outputs": [],
   "source": [
    "net = net.to('cpu')"
   ]
  },
  {
   "cell_type": "code",
   "execution_count": 82,
   "metadata": {
    "colab": {
     "base_uri": "https://localhost:8080/",
     "height": 34
    },
    "colab_type": "code",
    "executionInfo": {
     "elapsed": 1486,
     "status": "ok",
     "timestamp": 1587752022223,
     "user": {
      "displayName": "shah krishna",
      "photoUrl": "",
      "userId": "02285464088952770387"
     },
     "user_tz": -330
    },
    "id": "AU2w9q5zUT-u",
    "outputId": "10f243ef-ff0f-4f22-9426-90324e6ce087"
   },
   "outputs": [
    {
     "data": {
      "text/plain": [
       "torch.Size([4, 10])"
      ]
     },
     "execution_count": 82,
     "metadata": {
      "tags": []
     },
     "output_type": "execute_result"
    }
   ],
   "source": [
    "net = LeNet()\n",
    "out = net(images)\n",
    "out.shape"
   ]
  },
  {
   "cell_type": "code",
   "execution_count": 90,
   "metadata": {
    "colab": {
     "base_uri": "https://localhost:8080/",
     "height": 34
    },
    "colab_type": "code",
    "executionInfo": {
     "elapsed": 1539,
     "status": "ok",
     "timestamp": 1587752249078,
     "user": {
      "displayName": "shah krishna",
      "photoUrl": "",
      "userId": "02285464088952770387"
     },
     "user_tz": -330
    },
    "id": "1OQiTmwzUd4Z",
    "outputId": "b9b64f2a-4117-4c4a-d486-d70ba05ef590"
   },
   "outputs": [
    {
     "data": {
      "text/plain": [
       "torch.Size([4, 6, 28, 28])"
      ]
     },
     "execution_count": 90,
     "metadata": {
      "tags": []
     },
     "output_type": "execute_result"
    }
   ],
   "source": [
    "out = net.cnn_model[0](images)\n",
    "out.shape"
   ]
  },
  {
   "cell_type": "code",
   "execution_count": 68,
   "metadata": {
    "colab": {
     "base_uri": "https://localhost:8080/",
     "height": 159
    },
    "colab_type": "code",
    "executionInfo": {
     "elapsed": 2293,
     "status": "ok",
     "timestamp": 1587751499906,
     "user": {
      "displayName": "shah krishna",
      "photoUrl": "",
      "userId": "02285464088952770387"
     },
     "user_tz": -330
    },
    "id": "dQAlxPHLVLX9",
    "outputId": "055a150e-318c-4ba2-ebb2-1d686cd05a7a"
   },
   "outputs": [
    {
     "data": {
      "image/png": "[encoded data removed]",
      "text/plain": [
       "<Figure size 144x144 with 1 Axes>"
      ]
     },
     "metadata": {
      "needs_background": "light",
      "tags": []
     },
     "output_type": "display_data"
    }
   ],
   "source": [
    "image_id = 2\n",
    "plt.figure(figsize = (2, 2))\n",
    "imageshow(images[image_id, ])"
   ]
  },
  {
   "cell_type": "code",
   "execution_count": 88,
   "metadata": {
    "colab": {
     "base_uri": "https://localhost:8080/",
     "height": 314
    },
    "colab_type": "code",
    "executionInfo": {
     "elapsed": 2273,
     "status": "ok",
     "timestamp": 1587752200208,
     "user": {
      "displayName": "shah krishna",
      "photoUrl": "",
      "userId": "02285464088952770387"
     },
     "user_tz": -330
    },
    "id": "S6RdThpCWZCH",
    "outputId": "48c2e40e-6ca1-4be9-d915-9cbc9b90ae2b"
   },
   "outputs": [
    {
     "name": "stderr",
     "output_type": "stream",
     "text": [
      "/usr/local/lib/python3.6/dist-packages/ipykernel_launcher.py:4: MatplotlibDeprecationWarning: Adding an axes using the same arguments as a previous axes currently reuses the earlier instance.  In a future version, a new instance will always be created and returned.  Meanwhile, this warning can be suppressed, and the future behavior ensured, by passing a unique label to each axes instance.\n",
      "  after removing the cwd from sys.path.\n"
     ]
    },
    {
     "data": {
      "image/png": "[encoded data removed]",
      "text/plain": [
       "<Figure size 432x432 with 3 Axes>"
      ]
     },
     "metadata": {
      "needs_background": "light",
      "tags": []
     },
     "output_type": "display_data"
    }
   ],
   "source": [
    "plt.figure(figsize=(6, 6))\n",
    "plt.subplot(321)\n",
    "for i in range(3):\n",
    "  ax1 = plt.subplot(3, 2, i+1)\n",
    "  plt.imshow(out[image_id, i, :, :].detach().numpy(), cmap = 'binary')\n",
    "plt.show()"
   ]
  },
  {
   "cell_type": "code",
   "execution_count": 0,
   "metadata": {
    "colab": {},
    "colab_type": "code",
    "id": "gkB_41_8WJ57"
   },
   "outputs": [],
   "source": []
  }
 ],
 "metadata": {
  "accelerator": "GPU",
  "colab": {
   "authorship_tag": "ABX9TyPhW+eLuawcrJIdaySVJvhk",
   "collapsed_sections": [],
   "name": "Practice_CNN.ipynb",
   "provenance": []
  },
  "kernelspec": {
   "display_name": "Python 3",
   "language": "python",
   "name": "python3"
  },
  "language_info": {
   "codemirror_mode": {
    "name": "ipython",
    "version": 3
   },
   "file_extension": ".py",
   "mimetype": "text/x-python",
   "name": "python",
   "nbconvert_exporter": "python",
   "pygments_lexer": "ipython3",
   "version": "3.7.1"
  },
  "widgets": {
   "application/vnd.jupyter.widget-state+json": {
    "1469d12ffbc149428e50878ae435ce7c": {
     "model_module": "@jupyter-widgets/controls",
     "model_name": "IntProgressModel",
     "state": {
      "_dom_classes": [],
      "_model_module": "@jupyter-widgets/controls",
      "_model_module_version": "1.5.0",
      "_model_name": "IntProgressModel",
      "_view_count": null,
      "_view_module": "@jupyter-widgets/controls",
      "_view_module_version": "1.5.0",
      "_view_name": "ProgressView",
      "bar_style": "success",
      "description": "",
      "description_tooltip": null,
      "layout": "IPY_MODEL_7a9c765b2f6a4b8e9c8b7ea619d0c486",
      "max": 1,
      "min": 0,
      "orientation": "horizontal",
      "style": "IPY_MODEL_d2f34dd50b5f406381fd8022d9e42fc8",
      "value": 1
     }
    },
    "30a518040899458f93e4be0d06b5ab33": {
     "model_module": "@jupyter-widgets/controls",
     "model_name": "DescriptionStyleModel",
     "state": {
      "_model_module": "@jupyter-widgets/controls",
      "_model_module_version": "1.5.0",
      "_model_name": "DescriptionStyleModel",
      "_view_count": null,
      "_view_module": "@jupyter-widgets/base",
      "_view_module_version": "1.2.0",
      "_view_name": "StyleView",
      "description_width": ""
     }
    },
    "3ec720df1d264c92b4b0def4d37c3220": {
     "model_module": "@jupyter-widgets/controls",
     "model_name": "ProgressStyleModel",
     "state": {
      "_model_module": "@jupyter-widgets/controls",
      "_model_module_version": "1.5.0",
      "_model_name": "ProgressStyleModel",
      "_view_count": null,
      "_view_module": "@jupyter-widgets/base",
      "_view_module_version": "1.2.0",
      "_view_name": "StyleView",
      "bar_color": null,
      "description_width": "initial"
     }
    },
    "4195d4f87bf54ee9a15f086563315f96": {
     "model_module": "@jupyter-widgets/base",
     "model_name": "LayoutModel",
     "state": {
      "_model_module": "@jupyter-widgets/base",
      "_model_module_version": "1.2.0",
      "_model_name": "LayoutModel",
      "_view_count": null,
      "_view_module": "@jupyter-widgets/base",
      "_view_module_version": "1.2.0",
      "_view_name": "LayoutView",
      "align_content": null,
      "align_items": null,
      "align_self": null,
      "border": null,
      "bottom": null,
      "display": null,
      "flex": null,
      "flex_flow": null,
      "grid_area": null,
      "grid_auto_columns": null,
      "grid_auto_flow": null,
      "grid_auto_rows": null,
      "grid_column": null,
      "grid_gap": null,
      "grid_row": null,
      "grid_template_areas": null,
      "grid_template_columns": null,
      "grid_template_rows": null,
      "height": null,
      "justify_content": null,
      "justify_items": null,
      "left": null,
      "margin": null,
      "max_height": null,
      "max_width": null,
      "min_height": null,
      "min_width": null,
      "object_fit": null,
      "object_position": null,
      "order": null,
      "overflow": null,
      "overflow_x": null,
      "overflow_y": null,
      "padding": null,
      "right": null,
      "top": null,
      "visibility": null,
      "width": null
     }
    },
    "4b3fd848d9aa44a48250a38391ac5704": {
     "model_module": "@jupyter-widgets/base",
     "model_name": "LayoutModel",
     "state": {
      "_model_module": "@jupyter-widgets/base",
      "_model_module_version": "1.2.0",
      "_model_name": "LayoutModel",
      "_view_count": null,
      "_view_module": "@jupyter-widgets/base",
      "_view_module_version": "1.2.0",
      "_view_name": "LayoutView",
      "align_content": null,
      "align_items": null,
      "align_self": null,
      "border": null,
      "bottom": null,
      "display": null,
      "flex": null,
      "flex_flow": null,
      "grid_area": null,
      "grid_auto_columns": null,
      "grid_auto_flow": null,
      "grid_auto_rows": null,
      "grid_column": null,
      "grid_gap": null,
      "grid_row": null,
      "grid_template_areas": null,
      "grid_template_columns": null,
      "grid_template_rows": null,
      "height": null,
      "justify_content": null,
      "justify_items": null,
      "left": null,
      "margin": null,
      "max_height": null,
      "max_width": null,
      "min_height": null,
      "min_width": null,
      "object_fit": null,
      "object_position": null,
      "order": null,
      "overflow": null,
      "overflow_x": null,
      "overflow_y": null,
      "padding": null,
      "right": null,
      "top": null,
      "visibility": null,
      "width": null
     }
    },
    "5b2c5f0f56ae4e5f824d1c466becdcfc": {
     "model_module": "@jupyter-widgets/controls",
     "model_name": "IntProgressModel",
     "state": {
      "_dom_classes": [],
      "_model_module": "@jupyter-widgets/controls",
      "_model_module_version": "1.5.0",
      "_model_name": "IntProgressModel",
      "_view_count": null,
      "_view_module": "@jupyter-widgets/controls",
      "_view_module_version": "1.5.0",
      "_view_name": "ProgressView",
      "bar_style": "success",
      "description": "",
      "description_tooltip": null,
      "layout": "IPY_MODEL_e97880c2a5824cbc886691a1f76f532c",
      "max": 1,
      "min": 0,
      "orientation": "horizontal",
      "style": "IPY_MODEL_3ec720df1d264c92b4b0def4d37c3220",
      "value": 1
     }
    },
    "7a9c765b2f6a4b8e9c8b7ea619d0c486": {
     "model_module": "@jupyter-widgets/base",
     "model_name": "LayoutModel",
     "state": {
      "_model_module": "@jupyter-widgets/base",
      "_model_module_version": "1.2.0",
      "_model_name": "LayoutModel",
      "_view_count": null,
      "_view_module": "@jupyter-widgets/base",
      "_view_module_version": "1.2.0",
      "_view_name": "LayoutView",
      "align_content": null,
      "align_items": null,
      "align_self": null,
      "border": null,
      "bottom": null,
      "display": null,
      "flex": null,
      "flex_flow": null,
      "grid_area": null,
      "grid_auto_columns": null,
      "grid_auto_flow": null,
      "grid_auto_rows": null,
      "grid_column": null,
      "grid_gap": null,
      "grid_row": null,
      "grid_template_areas": null,
      "grid_template_columns": null,
      "grid_template_rows": null,
      "height": null,
      "justify_content": null,
      "justify_items": null,
      "left": null,
      "margin": null,
      "max_height": null,
      "max_width": null,
      "min_height": null,
      "min_width": null,
      "object_fit": null,
      "object_position": null,
      "order": null,
      "overflow": null,
      "overflow_x": null,
      "overflow_y": null,
      "padding": null,
      "right": null,
      "top": null,
      "visibility": null,
      "width": null
     }
    },
    "887e5a1e340446d2ba58da0554874994": {
     "model_module": "@jupyter-widgets/base",
     "model_name": "LayoutModel",
     "state": {
      "_model_module": "@jupyter-widgets/base",
      "_model_module_version": "1.2.0",
      "_model_name": "LayoutModel",
      "_view_count": null,
      "_view_module": "@jupyter-widgets/base",
      "_view_module_version": "1.2.0",
      "_view_name": "LayoutView",
      "align_content": null,
      "align_items": null,
      "align_self": null,
      "border": null,
      "bottom": null,
      "display": null,
      "flex": null,
      "flex_flow": null,
      "grid_area": null,
      "grid_auto_columns": null,
      "grid_auto_flow": null,
      "grid_auto_rows": null,
      "grid_column": null,
      "grid_gap": null,
      "grid_row": null,
      "grid_template_areas": null,
      "grid_template_columns": null,
      "grid_template_rows": null,
      "height": null,
      "justify_content": null,
      "justify_items": null,
      "left": null,
      "margin": null,
      "max_height": null,
      "max_width": null,
      "min_height": null,
      "min_width": null,
      "object_fit": null,
      "object_position": null,
      "order": null,
      "overflow": null,
      "overflow_x": null,
      "overflow_y": null,
      "padding": null,
      "right": null,
      "top": null,
      "visibility": null,
      "width": null
     }
    },
    "8b107b0100d94af4b73e326c229a1263": {
     "model_module": "@jupyter-widgets/controls",
     "model_name": "HBoxModel",
     "state": {
      "_dom_classes": [],
      "_model_module": "@jupyter-widgets/controls",
      "_model_module_version": "1.5.0",
      "_model_name": "HBoxModel",
      "_view_count": null,
      "_view_module": "@jupyter-widgets/controls",
      "_view_module_version": "1.5.0",
      "_view_name": "HBoxView",
      "box_style": "",
      "children": [
       "IPY_MODEL_1469d12ffbc149428e50878ae435ce7c",
       "IPY_MODEL_921597b279434e7ca2c0f4a66f0c073b"
      ],
      "layout": "IPY_MODEL_887e5a1e340446d2ba58da0554874994"
     }
    },
    "921597b279434e7ca2c0f4a66f0c073b": {
     "model_module": "@jupyter-widgets/controls",
     "model_name": "HTMLModel",
     "state": {
      "_dom_classes": [],
      "_model_module": "@jupyter-widgets/controls",
      "_model_module_version": "1.5.0",
      "_model_name": "HTMLModel",
      "_view_count": null,
      "_view_module": "@jupyter-widgets/controls",
      "_view_module_version": "1.5.0",
      "_view_name": "HTMLView",
      "description": "",
      "description_tooltip": null,
      "layout": "IPY_MODEL_cda7fad80adb44cca8ef6f4173cc0c92",
      "placeholder": "​",
      "style": "IPY_MODEL_30a518040899458f93e4be0d06b5ab33",
      "value": " 170500096/? [00:09&lt;00:00, 18001709.54it/s]"
     }
    },
    "b05af45e7deb4aa7963335afca2e41d7": {
     "model_module": "@jupyter-widgets/controls",
     "model_name": "HTMLModel",
     "state": {
      "_dom_classes": [],
      "_model_module": "@jupyter-widgets/controls",
      "_model_module_version": "1.5.0",
      "_model_name": "HTMLModel",
      "_view_count": null,
      "_view_module": "@jupyter-widgets/controls",
      "_view_module_version": "1.5.0",
      "_view_name": "HTMLView",
      "description": "",
      "description_tooltip": null,
      "layout": "IPY_MODEL_4b3fd848d9aa44a48250a38391ac5704",
      "placeholder": "​",
      "style": "IPY_MODEL_c334530070464950b39f79afaa34a4b7",
      "value": " 170500096/? [00:08&lt;00:00, 19050342.22it/s]"
     }
    },
    "c334530070464950b39f79afaa34a4b7": {
     "model_module": "@jupyter-widgets/controls",
     "model_name": "DescriptionStyleModel",
     "state": {
      "_model_module": "@jupyter-widgets/controls",
      "_model_module_version": "1.5.0",
      "_model_name": "DescriptionStyleModel",
      "_view_count": null,
      "_view_module": "@jupyter-widgets/base",
      "_view_module_version": "1.2.0",
      "_view_name": "StyleView",
      "description_width": ""
     }
    },
    "cda7fad80adb44cca8ef6f4173cc0c92": {
     "model_module": "@jupyter-widgets/base",
     "model_name": "LayoutModel",
     "state": {
      "_model_module": "@jupyter-widgets/base",
      "_model_module_version": "1.2.0",
      "_model_name": "LayoutModel",
      "_view_count": null,
      "_view_module": "@jupyter-widgets/base",
      "_view_module_version": "1.2.0",
      "_view_name": "LayoutView",
      "align_content": null,
      "align_items": null,
      "align_self": null,
      "border": null,
      "bottom": null,
      "display": null,
      "flex": null,
      "flex_flow": null,
      "grid_area": null,
      "grid_auto_columns": null,
      "grid_auto_flow": null,
      "grid_auto_rows": null,
      "grid_column": null,
      "grid_gap": null,
      "grid_row": null,
      "grid_template_areas": null,
      "grid_template_columns": null,
      "grid_template_rows": null,
      "height": null,
      "justify_content": null,
      "justify_items": null,
      "left": null,
      "margin": null,
      "max_height": null,
      "max_width": null,
      "min_height": null,
      "min_width": null,
      "object_fit": null,
      "object_position": null,
      "order": null,
      "overflow": null,
      "overflow_x": null,
      "overflow_y": null,
      "padding": null,
      "right": null,
      "top": null,
      "visibility": null,
      "width": null
     }
    },
    "d2f34dd50b5f406381fd8022d9e42fc8": {
     "model_module": "@jupyter-widgets/controls",
     "model_name": "ProgressStyleModel",
     "state": {
      "_model_module": "@jupyter-widgets/controls",
      "_model_module_version": "1.5.0",
      "_model_name": "ProgressStyleModel",
      "_view_count": null,
      "_view_module": "@jupyter-widgets/base",
      "_view_module_version": "1.2.0",
      "_view_name": "StyleView",
      "bar_color": null,
      "description_width": "initial"
     }
    },
    "e97880c2a5824cbc886691a1f76f532c": {
     "model_module": "@jupyter-widgets/base",
     "model_name": "LayoutModel",
     "state": {
      "_model_module": "@jupyter-widgets/base",
      "_model_module_version": "1.2.0",
      "_model_name": "LayoutModel",
      "_view_count": null,
      "_view_module": "@jupyter-widgets/base",
      "_view_module_version": "1.2.0",
      "_view_name": "LayoutView",
      "align_content": null,
      "align_items": null,
      "align_self": null,
      "border": null,
      "bottom": null,
      "display": null,
      "flex": null,
      "flex_flow": null,
      "grid_area": null,
      "grid_auto_columns": null,
      "grid_auto_flow": null,
      "grid_auto_rows": null,
      "grid_column": null,
      "grid_gap": null,
      "grid_row": null,
      "grid_template_areas": null,
      "grid_template_columns": null,
      "grid_template_rows": null,
      "height": null,
      "justify_content": null,
      "justify_items": null,
      "left": null,
      "margin": null,
      "max_height": null,
      "max_width": null,
      "min_height": null,
      "min_width": null,
      "object_fit": null,
      "object_position": null,
      "order": null,
      "overflow": null,
      "overflow_x": null,
      "overflow_y": null,
      "padding": null,
      "right": null,
      "top": null,
      "visibility": null,
      "width": null
     }
    },
    "ef3de028f221496abc3a6974fc388f6b": {
     "model_module": "@jupyter-widgets/controls",
     "model_name": "HBoxModel",
     "state": {
      "_dom_classes": [],
      "_model_module": "@jupyter-widgets/controls",
      "_model_module_version": "1.5.0",
      "_model_name": "HBoxModel",
      "_view_count": null,
      "_view_module": "@jupyter-widgets/controls",
      "_view_module_version": "1.5.0",
      "_view_name": "HBoxView",
      "box_style": "",
      "children": [
       "IPY_MODEL_5b2c5f0f56ae4e5f824d1c466becdcfc",
       "IPY_MODEL_b05af45e7deb4aa7963335afca2e41d7"
      ],
      "layout": "IPY_MODEL_4195d4f87bf54ee9a15f086563315f96"
     }
    }
   }
  }
 },
 "nbformat": 4,
 "nbformat_minor": 1
}
