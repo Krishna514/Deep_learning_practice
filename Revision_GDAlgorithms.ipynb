{
 "cells": [
  {
   "cell_type": "code",
   "execution_count": 76,
   "metadata": {
    "colab": {},
    "colab_type": "code",
    "executionInfo": {
     "elapsed": 1965,
     "status": "ok",
     "timestamp": 1592586320191,
     "user": {
      "displayName": "shah krishna",
      "photoUrl": "",
      "userId": "02285464088952770387"
     },
     "user_tz": -330
    },
    "id": "SeLp87P4b0iq"
   },
   "outputs": [],
   "source": [
    "import numpy as np\n",
    "import pandas as pd\n",
    "import matplotlib.pyplot as plt\n",
    "from sklearn.model_selection import train_test_split\n",
    "from sklearn.metrics import mean_squared_error, accuracy_score\n",
    "from tqdm import tqdm_notebook\n",
    "from mpl_toolkits.mplot3d import Axes3D\n",
    "from matplotlib import cm, rc, animation\n",
    "import matplotlib.colors\n",
    "from IPython.display import HTML\n",
    "from sklearn.datasets import make_moons"
   ]
  },
  {
   "cell_type": "code",
   "execution_count": 77,
   "metadata": {
    "colab": {},
    "colab_type": "code",
    "executionInfo": {
     "elapsed": 1951,
     "status": "ok",
     "timestamp": 1592586320192,
     "user": {
      "displayName": "shah krishna",
      "photoUrl": "",
      "userId": "02285464088952770387"
     },
     "user_tz": -330
    },
    "id": "owz-V5rJcYbX"
   },
   "outputs": [],
   "source": [
    "X, Y = make_moons(n_samples=100, random_state=0)"
   ]
  },
  {
   "cell_type": "code",
   "execution_count": 78,
   "metadata": {
    "colab": {},
    "colab_type": "code",
    "executionInfo": {
     "elapsed": 1942,
     "status": "ok",
     "timestamp": 1592586320194,
     "user": {
      "displayName": "shah krishna",
      "photoUrl": "",
      "userId": "02285464088952770387"
     },
     "user_tz": -330
    },
    "id": "3TfP6BQ7dr1C"
   },
   "outputs": [],
   "source": [
    "my_cmap = matplotlib.colors.LinearSegmentedColormap.from_list('', [\"Red\", \"yellow\", \"green\"])"
   ]
  },
  {
   "cell_type": "code",
   "execution_count": 79,
   "metadata": {
    "colab": {
     "base_uri": "https://localhost:8080/",
     "height": 265
    },
    "colab_type": "code",
    "executionInfo": {
     "elapsed": 3072,
     "status": "ok",
     "timestamp": 1592586321336,
     "user": {
      "displayName": "shah krishna",
      "photoUrl": "",
      "userId": "02285464088952770387"
     },
     "user_tz": -330
    },
    "id": "NBE0jyzIe-5L",
    "outputId": "6d4f028b-e207-45b6-aaff-66c99953e523"
   },
   "outputs": [
    {
     "data": {
      "image/png": "[encoded data removed]",
      "text/plain": [
       "<Figure size 432x288 with 1 Axes>"
      ]
     },
     "metadata": {
      "needs_background": "light",
      "tags": []
     },
     "output_type": "display_data"
    }
   ],
   "source": [
    "plt.scatter(X[:, 0], X[:, 1], cmap=my_cmap, c=Y)\n",
    "plt.show()"
   ]
  },
  {
   "cell_type": "code",
   "execution_count": 80,
   "metadata": {
    "colab": {},
    "colab_type": "code",
    "executionInfo": {
     "elapsed": 3060,
     "status": "ok",
     "timestamp": 1592586321339,
     "user": {
      "displayName": "shah krishna",
      "photoUrl": "",
      "userId": "02285464088952770387"
     },
     "user_tz": -330
    },
    "id": "NOpb57PufO38"
   },
   "outputs": [],
   "source": [
    "X_train, X_test, Y_train, Y_test = train_test_split(X, Y, stratify=Y, random_state=0, test_size=0.2)"
   ]
  },
  {
   "cell_type": "code",
   "execution_count": 81,
   "metadata": {
    "colab": {
     "base_uri": "https://localhost:8080/",
     "height": 33
    },
    "colab_type": "code",
    "executionInfo": {
     "elapsed": 3049,
     "status": "ok",
     "timestamp": 1592586321340,
     "user": {
      "displayName": "shah krishna",
      "photoUrl": "",
      "userId": "02285464088952770387"
     },
     "user_tz": -330
    },
    "id": "CSLYWPARfeK2",
    "outputId": "88a1772b-8abe-46f0-cb0a-444ac4103de9"
   },
   "outputs": [
    {
     "name": "stdout",
     "output_type": "stream",
     "text": [
      "(80, 2) (20, 2) (80,) (20,)\n"
     ]
    }
   ],
   "source": [
    "print(X_train.shape, X_test.shape, Y_train.shape, Y_test.shape)"
   ]
  },
  {
   "cell_type": "code",
   "execution_count": 95,
   "metadata": {
    "colab": {},
    "colab_type": "code",
    "executionInfo": {
     "elapsed": 1549,
     "status": "ok",
     "timestamp": 1592586517720,
     "user": {
      "displayName": "shah krishna",
      "photoUrl": "",
      "userId": "02285464088952770387"
     },
     "user_tz": -330
    },
    "id": "MP_reOGghW6d"
   },
   "outputs": [],
   "source": [
    "class Sigmoid:\n",
    "  def __init__(self, w, b, algo):\n",
    "    self.w = w\n",
    "    self.b = b\n",
    "    self.algo = algo\n",
    "    self.w_h = []\n",
    "    self.b_h = []\n",
    "    self.e_h = []\n",
    "  \n",
    "  def sigmoid(self, x, w = None, b = None):\n",
    "    if w is None:\n",
    "      w = self.w\n",
    "    if b is None:\n",
    "      b = self.b\n",
    "    return 1/ (1+np.exp(-(np.dot(x, w.T)+b)))       # (1, 2) * (2, 1) -> (1, 1)\n",
    "  \n",
    "  def grad_w(self, x, y, w=None, b = None):\n",
    "    if w is None:\n",
    "      w = self.w\n",
    "    if b is None:\n",
    "      b = self.b\n",
    "    y_pred = self.sigmoid(x, w, b)\n",
    "    return (y_pred-y) * (1-y_pred) * y_pred * x\n",
    "  \n",
    "  def grad_b(self, x, y, w=None, b=None):\n",
    "    if w is None:\n",
    "      w = self.w\n",
    "    if b is None:\n",
    "      b = self.b\n",
    "    y_pred = self.sigmoid(x, w, b)\n",
    "    return (y_pred-y) * (1-y_pred) * y_pred\n",
    "  \n",
    "  def error_append(self, X, Y, w = None, b = None):\n",
    "    if w is None:\n",
    "      w = self.w\n",
    "    if b is None:\n",
    "      b = self.b\n",
    "    error = 0\n",
    "    for x, y in zip(X, Y):\n",
    "      y_pred = self.sigmoid(x, w, b)\n",
    "      error += 0.5 * (y_pred-y)**2\n",
    "    return error\n",
    "\n",
    "  def fit(self, X, Y, epochs = 100, lr = 0.1, mini_batch_size=32, gamma = 0.9, beta = 0.9, eps = 1e-8, beta1 = 0.9, beta2 = 0.9):\n",
    "\n",
    "    self.X = X\n",
    "    self.Y = Y\n",
    "    if self.algo == 'GD':\n",
    "      for epoch in range(epochs):\n",
    "        dw, db = 0, 0\n",
    "        for x,y in zip(X, Y):\n",
    "          dw += self.grad_w(x, y)\n",
    "          db += self.grad_b(x, y)\n",
    "        m = X.shape[0]\n",
    "        self.w -= lr*dw/m\n",
    "        self.b -= lr*db/m\n",
    "        self.append_log()\n",
    "      \n",
    "    elif self.algo == 'mini-batch':\n",
    "      for epoch in range(epochs):\n",
    "        dw, db, ponits_seen = 0, 0, 0\n",
    "        for x,y in zip(X, Y):\n",
    "          dw += self.grad_w(x, y)\n",
    "          db += self.grad_b(x, y)\n",
    "          ponits_seen += 1\n",
    "          if points_seen % mini_batch_size == 0:\n",
    "            self.w -= eta * dw/mini_batch_size\n",
    "            self.b -= lr * db/mini_batch_size\n",
    "            self.append_log()\n",
    "            dw, db =0, 0\n",
    "          \n",
    "    elif self.algo == 'Momentum':\n",
    "      v_w, v_b = 0, 0\n",
    "      for epoch in range(epochs):\n",
    "        dw, db = 0, 0\n",
    "        for x,y in zip(X, Y):\n",
    "          dw += self.grad_w(x, y)\n",
    "          db += self.grad_b(x, y)\n",
    "        v_w = gamma*v_w + eta*dw\n",
    "        v_b = gamma*v_b + eta*db\n",
    "        self.w -= v_w\n",
    "        self.b -= v_b\n",
    "        self.append_log()\n",
    "    \n",
    "    elif self.algo == \"NAG\":\n",
    "      v_w, v_b = 0, 0\n",
    "      for epoch in range(epochs):\n",
    "        dw, db = 0, 0\n",
    "        v_w = gamma*v_w\n",
    "        v_b = gamma*v_b\n",
    "        for x,y in zip(X, Y):\n",
    "          dw += self.grad_w(x, y, self.w - v_w, self.b - v_b)\n",
    "          db += self.grad_b(x, y, self.w - v_w, self.b - v_b)\n",
    "        v_w += eta*dw\n",
    "        v_b += eta*db\n",
    "        self.w -= v_w\n",
    "        self.b -= v_b\n",
    "        self.append_log()\n",
    "      \n",
    "    elif self.algo == 'Adagrad':\n",
    "      v_w, v_b = 0, 0\n",
    "      for epoch in range(epochs):\n",
    "        dw, db=0,0\n",
    "        for x,y in zip(X, Y):\n",
    "          dw += self.grad_w(x, y)\n",
    "          db += self.grad-b(x, y)\n",
    "        v_w += dw**2\n",
    "        v_b += db**2\n",
    "        self.w -= dw * (lr / (np.sqrt(v_w) + eps))\n",
    "        self.b -= db * (lr / (np.sqrt(v_b) + eps))\n",
    "        self.append_log()\n",
    "    \n",
    "    elif self.algo == 'RMSProp':\n",
    "      v_w, v_b = 0, 0\n",
    "      for epoch in range(epochs):\n",
    "        dw, db = 0, 0\n",
    "        for x, y in zip(X, Y):\n",
    "          dw += self.grad_w(x, y)\n",
    "          db += self.grad_b(x, y)\n",
    "        v_w = beta * v_w + (1-beta) * dw**2\n",
    "        v_b = beta * v_b + (1-beta) * db**2\n",
    "        self.w -= dw * (lr / (np.sqrt(v_w) + eps))\n",
    "        self.b -= db * (lr / (np.sqrt(v_b) + eps))\n",
    "        self.append_log()\n",
    "    \n",
    "    elif self.algo == \"Adam\":\n",
    "      v_w, v_b = 0, 0\n",
    "      m_w, m_b = 0, 0\n",
    "      num_updates = 0\n",
    "      for i in range(epochs):\n",
    "        dw, db = 0, 0\n",
    "        for x, y in zip(X, Y):\n",
    "          dw = self.grad_w(x, y)\n",
    "          db = self.grad_b(x, y)\n",
    "          num_updates += 1\n",
    "          m_w = beta1 * m_w + (1-beta1) * dw\n",
    "          m_b = beta1 * m_b + (1-beta1) * db\n",
    "          v_w = beta2 * v_w + (1-beta2) * dw**2\n",
    "          v_b = beta2 * v_b + (1-beta2) * db**2\n",
    "          m_w_c = m_w / (1 - np.power(beta1, num_updates))\n",
    "          m_b_c = m_b / (1 - np.power(beta1, num_updates))\n",
    "          v_w_c = v_w / (1 - np.power(beta2, num_updates))\n",
    "          v_b_c = v_b / (1 - np.power(beta2, num_updates))\n",
    "          self.w -= (lr / np.sqrt(v_w_c) + eps) * m_w_c\n",
    "          self.b -= (lr / np.sqrt(v_b_c) + eps) * m_b_c\n",
    "          self.append_log()\n",
    "\n",
    "  def append_log(self):\n",
    "    self.w_h.append(self.w)\n",
    "    self.b_h.append(self.b)\n",
    "    self.e_h.append(self.error_append(self.X, self.Y))\n",
    "  \n",
    "  def predict(self, X):\n",
    "    Y_pred = []\n",
    "    for x in X:\n",
    "      y_pred = self.sigmoid(x)\n",
    "      Y_pred.append(y_pred)\n",
    "    return np.array(Y_pred)"
   ]
  },
  {
   "cell_type": "code",
   "execution_count": 96,
   "metadata": {
    "colab": {},
    "colab_type": "code",
    "executionInfo": {
     "elapsed": 1598,
     "status": "ok",
     "timestamp": 1592586522312,
     "user": {
      "displayName": "shah krishna",
      "photoUrl": "",
      "userId": "02285464088952770387"
     },
     "user_tz": -330
    },
    "id": "diGUw8iPlBoN"
   },
   "outputs": [],
   "source": [
    "algo = 'Adam'\n",
    "w_init = np.asarray([[0.3, -0.7]])\n",
    "b_init = 0\n",
    "sn = Sigmoid(w_init, b_init, algo)"
   ]
  },
  {
   "cell_type": "code",
   "execution_count": 97,
   "metadata": {
    "colab": {},
    "colab_type": "code",
    "executionInfo": {
     "elapsed": 10719,
     "status": "ok",
     "timestamp": 1592586533980,
     "user": {
      "displayName": "shah krishna",
      "photoUrl": "",
      "userId": "02285464088952770387"
     },
     "user_tz": -330
    },
    "id": "bSUUXBeRawdG"
   },
   "outputs": [],
   "source": [
    "sn.fit(X_train, Y_train)"
   ]
  },
  {
   "cell_type": "code",
   "execution_count": 98,
   "metadata": {
    "colab": {
     "base_uri": "https://localhost:8080/",
     "height": 50
    },
    "colab_type": "code",
    "executionInfo": {
     "elapsed": 2509,
     "status": "ok",
     "timestamp": 1592586542913,
     "user": {
      "displayName": "shah krishna",
      "photoUrl": "",
      "userId": "02285464088952770387"
     },
     "user_tz": -330
    },
    "id": "HeDFhHAJb86J",
    "outputId": "7e411763-2cb4-4eac-866f-2fc90bba6f49"
   },
   "outputs": [
    {
     "name": "stdout",
     "output_type": "stream",
     "text": [
      "0.85\n",
      "0.9\n"
     ]
    }
   ],
   "source": [
    "Y_pred_train = sn.predict(X_train)\n",
    "Y_pred_train = (Y_pred_train>0.5)\n",
    "Y_pred_test = sn.predict(X_test)\n",
    "Y_pred_test = (Y_pred_test>0.5)\n",
    "print(accuracy_score(Y_train, Y_pred_train))\n",
    "print(accuracy_score(Y_test, Y_pred_test))"
   ]
  },
  {
   "cell_type": "code",
   "execution_count": 86,
   "metadata": {
    "colab": {},
    "colab_type": "code",
    "executionInfo": {
     "elapsed": 11944,
     "status": "ok",
     "timestamp": 1592586330334,
     "user": {
      "displayName": "shah krishna",
      "photoUrl": "",
      "userId": "02285464088952770387"
     },
     "user_tz": -330
    },
    "id": "OtR2HSSQcFHN"
   },
   "outputs": [],
   "source": []
  }
 ],
 "metadata": {
  "colab": {
   "authorship_tag": "ABX9TyNi6PZZT5z+xdEyZjhtserX",
   "name": "Revision_GDAlgorithms.ipynb",
   "provenance": []
  },
  "kernelspec": {
   "display_name": "Python 3",
   "language": "python",
   "name": "python3"
  },
  "language_info": {
   "codemirror_mode": {
    "name": "ipython",
    "version": 3
   },
   "file_extension": ".py",
   "mimetype": "text/x-python",
   "name": "python",
   "nbconvert_exporter": "python",
   "pygments_lexer": "ipython3",
   "version": "3.7.1"
  }
 },
 "nbformat": 4,
 "nbformat_minor": 1
}
