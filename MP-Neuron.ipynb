{
 "cells": [
  {
   "cell_type": "code",
   "execution_count": 1,
   "metadata": {
    "colab": {},
    "colab_type": "code",
    "id": "0Y-9PaFAQt1p"
   },
   "outputs": [],
   "source": [
    "import sklearn.datasets\n",
    "import numpy as np\n",
    "import pandas as pd"
   ]
  },
  {
   "cell_type": "code",
   "execution_count": 2,
   "metadata": {
    "colab": {},
    "colab_type": "code",
    "id": "U-_Xje8hWFz-"
   },
   "outputs": [],
   "source": [
    "breast_cancer = sklearn.datasets.load_breast_cancer()"
   ]
  },
  {
   "cell_type": "code",
   "execution_count": 3,
   "metadata": {
    "colab": {},
    "colab_type": "code",
    "id": "sEtlxBO8WR7f"
   },
   "outputs": [],
   "source": [
    "x = breast_cancer.data\n",
    "y = breast_cancer.target"
   ]
  },
  {
   "cell_type": "code",
   "execution_count": 4,
   "metadata": {
    "colab": {},
    "colab_type": "code",
    "id": "rPK3VU5iWZg4"
   },
   "outputs": [],
   "source": [
    "data = pd.DataFrame(breast_cancer.data, columns = breast_cancer.feature_names)\n",
    "data['class'] = breast_cancer.target"
   ]
  },
  {
   "cell_type": "code",
   "execution_count": 5,
   "metadata": {
    "colab": {},
    "colab_type": "code",
    "id": "KBsrVR4SWraU"
   },
   "outputs": [],
   "source": [
    "from sklearn.model_selection import train_test_split\n",
    "from sklearn.metrics import accuracy_score"
   ]
  },
  {
   "cell_type": "code",
   "execution_count": 6,
   "metadata": {
    "colab": {},
    "colab_type": "code",
    "id": "U4EUog63WQ4d"
   },
   "outputs": [],
   "source": [
    "x = data.drop('class', axis = 1)\n",
    "y = data['class']\n",
    "x_train, x_test, y_train, y_test = train_test_split(x,y, test_size = 0.1, stratify = y, random_state = 1)"
   ]
  },
  {
   "cell_type": "code",
   "execution_count": 7,
   "metadata": {
    "colab": {
     "base_uri": "https://localhost:8080/",
     "height": 34
    },
    "colab_type": "code",
    "executionInfo": {
     "elapsed": 3686,
     "status": "ok",
     "timestamp": 1585387380133,
     "user": {
      "displayName": "shah krishna",
      "photoUrl": "",
      "userId": "02285464088952770387"
     },
     "user_tz": -330
    },
    "id": "sw9MEdHDbxMd",
    "outputId": "f2bf092a-4e6f-4f60-ecb4-3572c8da3efa"
   },
   "outputs": [
    {
     "data": {
      "text/plain": [
       "pandas.core.series.Series"
      ]
     },
     "execution_count": 7,
     "metadata": {},
     "output_type": "execute_result"
    }
   ],
   "source": [
    "type(y_train)\n"
   ]
  },
  {
   "cell_type": "code",
   "execution_count": 8,
   "metadata": {
    "colab": {
     "base_uri": "https://localhost:8080/",
     "height": 34
    },
    "colab_type": "code",
    "executionInfo": {
     "elapsed": 1902,
     "status": "ok",
     "timestamp": 1585387380134,
     "user": {
      "displayName": "shah krishna",
      "photoUrl": "",
      "userId": "02285464088952770387"
     },
     "user_tz": -330
    },
    "id": "j9sGsvQuc2jB",
    "outputId": "ddbfb3ac-199c-463f-ac36-b8ba8eaad4d9"
   },
   "outputs": [
    {
     "data": {
      "text/plain": [
       "pandas.core.frame.DataFrame"
      ]
     },
     "execution_count": 8,
     "metadata": {},
     "output_type": "execute_result"
    }
   ],
   "source": [
    "type(x_train)"
   ]
  },
  {
   "cell_type": "code",
   "execution_count": null,
   "metadata": {
    "colab": {},
    "colab_type": "code",
    "id": "dI9JzFiObzj8"
   },
   "outputs": [],
   "source": []
  },
  {
   "cell_type": "code",
   "execution_count": 9,
   "metadata": {
    "colab": {},
    "colab_type": "code",
    "id": "FRvGvtPhXU9s"
   },
   "outputs": [],
   "source": [
    "x_binary_train = x_train.apply(pd.cut, bins = 2, labels = [1,0])\n",
    "x_binary_test = x_test.apply(pd.cut, bins = 2, labels = [1,0])"
   ]
  },
  {
   "cell_type": "code",
   "execution_count": 10,
   "metadata": {
    "colab": {},
    "colab_type": "code",
    "id": "2xceqW8-XJoM"
   },
   "outputs": [],
   "source": [
    "x_binary_train = x_binary_train.values\n",
    "x_binary_test = x_binary_test.values"
   ]
  },
  {
   "cell_type": "code",
   "execution_count": 11,
   "metadata": {
    "colab": {},
    "colab_type": "code",
    "id": "sqh02xCwV9qt"
   },
   "outputs": [],
   "source": [
    "class MP_Neuron:\n",
    "  def __init__(self):\n",
    "    self.b = None\n",
    "  \n",
    "  def model(self, x):\n",
    "    return(sum(x) >= self.b)\n",
    "  \n",
    "  def predict(self, X):\n",
    "    Y = []\n",
    "    for x in X:\n",
    "      result = self.model(x)\n",
    "      Y.append(result)\n",
    "    return np.asarray(Y)\n",
    "  \n",
    "  def fit(self, x, y):\n",
    "    accuracy = {}\n",
    "    \n",
    "    for b in range(x.shape[1] + 1):\n",
    "       self.b = b\n",
    "       y_pred = self.predict(x)\n",
    "       accuracy[b] = accuracy_score(y_pred, y)\n",
    "    \n",
    "    best_b = max(accuracy, key = accuracy.get)\n",
    "    self.b = best_b\n",
    "    print(\"Optimal value of accuracy is: \", best_b)\n",
    "    print(\"Highest value of accuracy is: \", accuracy[best_b])"
   ]
  },
  {
   "cell_type": "code",
   "execution_count": 12,
   "metadata": {
    "colab": {},
    "colab_type": "code",
    "id": "e3Q3vS7wjoYV"
   },
   "outputs": [
    {
     "name": "stdout",
     "output_type": "stream",
     "text": [
      "Optimal value of accuracy is:  28\n",
      "Highest value of accuracy is:  0.849609375\n"
     ]
    }
   ],
   "source": [
    "mp_neuron = MP_Neuron()\n",
    "mp_neuron.fit(x_binary_train, y_train)"
   ]
  },
  {
   "cell_type": "code",
   "execution_count": null,
   "metadata": {
    "colab": {},
    "colab_type": "code",
    "id": "D0mq4W3Bjwdg"
   },
   "outputs": [],
   "source": []
  },
  {
   "cell_type": "code",
   "execution_count": 13,
   "metadata": {
    "colab": {},
    "colab_type": "code",
    "id": "nwRdMhzwnNvK"
   },
   "outputs": [
    {
     "name": "stdout",
     "output_type": "stream",
     "text": [
      "0.7894736842105263\n"
     ]
    }
   ],
   "source": [
    "y_pred_test = mp_neuron.predict(x_binary_test)\n",
    "print(accuracy_score(y_pred_test, y_test))\n"
   ]
  },
  {
   "cell_type": "code",
   "execution_count": null,
   "metadata": {},
   "outputs": [],
   "source": []
  }
 ],
 "metadata": {
  "colab": {
   "authorship_tag": "ABX9TyPo2AW+d8FPUg4VY/OZLQiw",
   "name": "MP-Neuron.ipynb",
   "provenance": []
  },
  "kernelspec": {
   "display_name": "Python 3",
   "language": "python",
   "name": "python3"
  },
  "language_info": {
   "codemirror_mode": {
    "name": "ipython",
    "version": 3
   },
   "file_extension": ".py",
   "mimetype": "text/x-python",
   "name": "python",
   "nbconvert_exporter": "python",
   "pygments_lexer": "ipython3",
   "version": "3.7.1"
  }
 },
 "nbformat": 4,
 "nbformat_minor": 1
}
