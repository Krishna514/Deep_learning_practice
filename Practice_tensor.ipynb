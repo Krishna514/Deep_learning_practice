{
 "cells": [
  {
   "cell_type": "code",
   "execution_count": 0,
   "metadata": {
    "colab": {},
    "colab_type": "code",
    "id": "G45l1OFNW4gZ"
   },
   "outputs": [],
   "source": [
    "import torch\n",
    "import numpy as np\n",
    "import matplotlib.pyplot as plt"
   ]
  },
  {
   "cell_type": "code",
   "execution_count": 2,
   "metadata": {
    "colab": {
     "base_uri": "https://localhost:8080/",
     "height": 101
    },
    "colab_type": "code",
    "executionInfo": {
     "elapsed": 6418,
     "status": "ok",
     "timestamp": 1587405657232,
     "user": {
      "displayName": "shah krishna",
      "photoUrl": "",
      "userId": "02285464088952770387"
     },
     "user_tz": -330
    },
    "id": "DZnc8DlQfW0k",
    "outputId": "2a6eabe9-bc2a-47df-b6f5-8f82fda9bca3"
   },
   "outputs": [
    {
     "name": "stdout",
     "output_type": "stream",
     "text": [
      "tensor([[1., 1., 1.],\n",
      "        [1., 1., 1.]]) tensor([[0., 0.],\n",
      "        [0., 0.],\n",
      "        [0., 0.],\n",
      "        [0., 0.]])\n"
     ]
    }
   ],
   "source": [
    "x = torch.ones(2, 3)\n",
    "y = torch.zeros(4, 2)\n",
    "print(x, y)"
   ]
  },
  {
   "cell_type": "code",
   "execution_count": 0,
   "metadata": {
    "colab": {},
    "colab_type": "code",
    "id": "bx2kwxLWfmZX"
   },
   "outputs": [],
   "source": [
    "x = torch.empty(2, 3)"
   ]
  },
  {
   "cell_type": "code",
   "execution_count": 4,
   "metadata": {
    "colab": {
     "base_uri": "https://localhost:8080/",
     "height": 50
    },
    "colab_type": "code",
    "executionInfo": {
     "elapsed": 6399,
     "status": "ok",
     "timestamp": 1587405657237,
     "user": {
      "displayName": "shah krishna",
      "photoUrl": "",
      "userId": "02285464088952770387"
     },
     "user_tz": -330
    },
    "id": "1jjAzbOQfqdK",
    "outputId": "d70d78e9-1009-47e5-a3ec-e04671168ac1"
   },
   "outputs": [
    {
     "name": "stdout",
     "output_type": "stream",
     "text": [
      "tensor([[6.8282e-36, 0.0000e+00, 0.0000e+00],\n",
      "        [0.0000e+00, 0.0000e+00, 0.0000e+00]])\n"
     ]
    }
   ],
   "source": [
    "print(x)"
   ]
  },
  {
   "cell_type": "code",
   "execution_count": 5,
   "metadata": {
    "colab": {
     "base_uri": "https://localhost:8080/",
     "height": 50
    },
    "colab_type": "code",
    "executionInfo": {
     "elapsed": 6383,
     "status": "ok",
     "timestamp": 1587405657239,
     "user": {
      "displayName": "shah krishna",
      "photoUrl": "",
      "userId": "02285464088952770387"
     },
     "user_tz": -330
    },
    "id": "Jul3nYpSfs1N",
    "outputId": "02448b88-be9e-4795-db1b-c4f399b192d9"
   },
   "outputs": [
    {
     "name": "stdout",
     "output_type": "stream",
     "text": [
      "tensor([[0., 0., 0.],\n",
      "        [0., 0., 0.]])\n"
     ]
    }
   ],
   "source": [
    "x = torch.zeros_like(x)\n",
    "print(x)"
   ]
  },
  {
   "cell_type": "code",
   "execution_count": 6,
   "metadata": {
    "colab": {
     "base_uri": "https://localhost:8080/",
     "height": 34
    },
    "colab_type": "code",
    "executionInfo": {
     "elapsed": 6366,
     "status": "ok",
     "timestamp": 1587405657240,
     "user": {
      "displayName": "shah krishna",
      "photoUrl": "",
      "userId": "02285464088952770387"
     },
     "user_tz": -330
    },
    "id": "R0dglfaHgQzC",
    "outputId": "bdcb264e-d7f3-40c4-f7bf-b92d8514f02e"
   },
   "outputs": [
    {
     "name": "stdout",
     "output_type": "stream",
     "text": [
      "tensor([ 0.,  1.,  2.,  3.,  4.,  5.,  6.,  7.,  8.,  9., 10.])\n"
     ]
    }
   ],
   "source": [
    "y = torch.linspace(0, 10, 11)\n",
    "print(y)"
   ]
  },
  {
   "cell_type": "code",
   "execution_count": 7,
   "metadata": {
    "colab": {
     "base_uri": "https://localhost:8080/",
     "height": 50
    },
    "colab_type": "code",
    "executionInfo": {
     "elapsed": 6349,
     "status": "ok",
     "timestamp": 1587405657241,
     "user": {
      "displayName": "shah krishna",
      "photoUrl": "",
      "userId": "02285464088952770387"
     },
     "user_tz": -330
    },
    "id": "wSGCRmn3gV5V",
    "outputId": "4be324a0-675f-4d92-a55c-b25a0f9b533d"
   },
   "outputs": [
    {
     "name": "stdout",
     "output_type": "stream",
     "text": [
      "tensor([[ 1.3589, -0.6765,  1.8811],\n",
      "        [ 0.3075,  1.2231, -0.2550]])\n"
     ]
    }
   ],
   "source": [
    "x = torch.randn(2, 3)\n",
    "print(x)"
   ]
  },
  {
   "cell_type": "code",
   "execution_count": 0,
   "metadata": {
    "colab": {},
    "colab_type": "code",
    "id": "uWX5gz_ahD1S"
   },
   "outputs": [],
   "source": [
    "x = torch.tensor([[1, 2], [2, 3], [4, 5]])"
   ]
  },
  {
   "cell_type": "code",
   "execution_count": 9,
   "metadata": {
    "colab": {
     "base_uri": "https://localhost:8080/",
     "height": 67
    },
    "colab_type": "code",
    "executionInfo": {
     "elapsed": 6326,
     "status": "ok",
     "timestamp": 1587405657243,
     "user": {
      "displayName": "shah krishna",
      "photoUrl": "",
      "userId": "02285464088952770387"
     },
     "user_tz": -330
    },
    "id": "z5WhEr2Vho_j",
    "outputId": "d3cf7f40-ec0a-4b6f-eb28-fe14a2d43b4a"
   },
   "outputs": [
    {
     "name": "stdout",
     "output_type": "stream",
     "text": [
      "tensor([[1, 2],\n",
      "        [2, 3],\n",
      "        [4, 5]])\n"
     ]
    }
   ],
   "source": [
    "print(x)"
   ]
  },
  {
   "cell_type": "code",
   "execution_count": 10,
   "metadata": {
    "colab": {
     "base_uri": "https://localhost:8080/",
     "height": 67
    },
    "colab_type": "code",
    "executionInfo": {
     "elapsed": 6306,
     "status": "ok",
     "timestamp": 1587405657244,
     "user": {
      "displayName": "shah krishna",
      "photoUrl": "",
      "userId": "02285464088952770387"
     },
     "user_tz": -330
    },
    "id": "Trt56C3ahsuH",
    "outputId": "514d720e-8aee-463c-959e-7a4f56e18c09"
   },
   "outputs": [
    {
     "name": "stdout",
     "output_type": "stream",
     "text": [
      "tensor([2, 3, 5]) tensor([[1, 2],\n",
      "        [2, 3],\n",
      "        [4, 5]])\n"
     ]
    }
   ],
   "source": [
    "x.size()\n",
    "y = x[:, 1]\n",
    "z = x[:, :]\n",
    "print(y, z)"
   ]
  },
  {
   "cell_type": "code",
   "execution_count": 11,
   "metadata": {
    "colab": {
     "base_uri": "https://localhost:8080/",
     "height": 84
    },
    "colab_type": "code",
    "executionInfo": {
     "elapsed": 6288,
     "status": "ok",
     "timestamp": 1587405657245,
     "user": {
      "displayName": "shah krishna",
      "photoUrl": "",
      "userId": "02285464088952770387"
     },
     "user_tz": -330
    },
    "id": "rqACdVS3kq1l",
    "outputId": "8e29f6ff-60f6-4af3-9bee-fc2cd547a913"
   },
   "outputs": [
    {
     "name": "stdout",
     "output_type": "stream",
     "text": [
      "tensor([[1, 2, 2],\n",
      "        [3, 4, 5]]) tensor([[1, 2, 2, 3, 4, 5]])\n",
      "tensor(2)\n",
      "2\n"
     ]
    }
   ],
   "source": [
    "y = x.view(2, 3)\n",
    "z = x.view(1, -1)\n",
    "print(y, z)\n",
    "y = x[0, 1]\n",
    "print(y)\n",
    "print(y.item())\n"
   ]
  },
  {
   "cell_type": "code",
   "execution_count": 12,
   "metadata": {
    "colab": {
     "base_uri": "https://localhost:8080/",
     "height": 185
    },
    "colab_type": "code",
    "executionInfo": {
     "elapsed": 6272,
     "status": "ok",
     "timestamp": 1587405657247,
     "user": {
      "displayName": "shah krishna",
      "photoUrl": "",
      "userId": "02285464088952770387"
     },
     "user_tz": -330
    },
    "id": "gj-w3_lpleHV",
    "outputId": "e7e08f1a-68b6-4d70-83c8-7ff5b7feae6f"
   },
   "outputs": [
    {
     "name": "stdout",
     "output_type": "stream",
     "text": [
      "tensor([[2., 2.],\n",
      "        [2., 2.],\n",
      "        [2., 2.]])\n",
      "tensor([[1., 1.],\n",
      "        [1., 1.],\n",
      "        [1., 1.]]) tensor([[2., 2.],\n",
      "        [2., 2.],\n",
      "        [2., 2.]]) tensor([[2., 2.],\n",
      "        [2., 2.],\n",
      "        [2., 2.]])\n"
     ]
    }
   ],
   "source": [
    "x = torch.ones(3, 2)\n",
    "y = torch.ones(3, 2)\n",
    "z = x+y\n",
    "print(z)\n",
    "z = x.add(y)\n",
    "z= y.add_(x)\n",
    "print(x, y, z)"
   ]
  },
  {
   "cell_type": "code",
   "execution_count": 13,
   "metadata": {
    "colab": {
     "base_uri": "https://localhost:8080/",
     "height": 118
    },
    "colab_type": "code",
    "executionInfo": {
     "elapsed": 6254,
     "status": "ok",
     "timestamp": 1587405657248,
     "user": {
      "displayName": "shah krishna",
      "photoUrl": "",
      "userId": "02285464088952770387"
     },
     "user_tz": -330
    },
    "id": "vwPj_84xlekM",
    "outputId": "65f470dc-d4c6-43ff-8af7-244f735acc97"
   },
   "outputs": [
    {
     "name": "stdout",
     "output_type": "stream",
     "text": [
      "tensor([[6., 6.],\n",
      "        [6., 6.],\n",
      "        [6., 6.]]) [[6. 6.]\n",
      " [6. 6.]\n",
      " [6. 6.]]\n",
      "<class 'torch.Tensor'> <class 'numpy.ndarray'>\n"
     ]
    }
   ],
   "source": [
    "x_np = x.numpy()\n",
    "x_np += 5\n",
    "print(x, x_np)\n",
    "print(type(x), type(x_np))"
   ]
  },
  {
   "cell_type": "code",
   "execution_count": 14,
   "metadata": {
    "colab": {
     "base_uri": "https://localhost:8080/",
     "height": 67
    },
    "colab_type": "code",
    "executionInfo": {
     "elapsed": 6237,
     "status": "ok",
     "timestamp": 1587405657249,
     "user": {
      "displayName": "shah krishna",
      "photoUrl": "",
      "userId": "02285464088952770387"
     },
     "user_tz": -330
    },
    "id": "Kk-AbFfKnthi",
    "outputId": "82fdf203-f61e-4bdb-af8f-3468dbddf2c0"
   },
   "outputs": [
    {
     "name": "stdout",
     "output_type": "stream",
     "text": [
      "[[3.27797929 1.89251356 1.88067882]\n",
      " [0.50008506 1.7455188  0.73214118]] tensor([[3.2780, 1.8925, 1.8807],\n",
      "        [0.5001, 1.7455, 0.7321]], dtype=torch.float64)\n"
     ]
    }
   ],
   "source": [
    "a = np.random.randn(2, 3)\n",
    "a_np = torch.from_numpy(a)\n",
    "a += 2\n",
    "print(a, a_np)"
   ]
  },
  {
   "cell_type": "code",
   "execution_count": 15,
   "metadata": {
    "colab": {
     "base_uri": "https://localhost:8080/",
     "height": 67
    },
    "colab_type": "code",
    "executionInfo": {
     "elapsed": 6220,
     "status": "ok",
     "timestamp": 1587405657250,
     "user": {
      "displayName": "shah krishna",
      "photoUrl": "",
      "userId": "02285464088952770387"
     },
     "user_tz": -330
    },
    "id": "ROpd2OKfn2RO",
    "outputId": "65c15b43-e130-4af6-c9fb-e4bae6018bcd"
   },
   "outputs": [
    {
     "name": "stdout",
     "output_type": "stream",
     "text": [
      "(50, 50)\n",
      "CPU times: user 3.74 ms, sys: 0 ns, total: 3.74 ms\n",
      "Wall time: 9.76 ms\n"
     ]
    }
   ],
   "source": [
    "%%time\n",
    "for i in range(10):\n",
    "  x = np.random.randn(50, 50)\n",
    "  y = np.random.randn(50, 50)\n",
    "  z = np.matmul(x, y)\n",
    "print(x.shape)"
   ]
  },
  {
   "cell_type": "code",
   "execution_count": 16,
   "metadata": {
    "colab": {
     "base_uri": "https://localhost:8080/",
     "height": 50
    },
    "colab_type": "code",
    "executionInfo": {
     "elapsed": 6204,
     "status": "ok",
     "timestamp": 1587405657251,
     "user": {
      "displayName": "shah krishna",
      "photoUrl": "",
      "userId": "02285464088952770387"
     },
     "user_tz": -330
    },
    "id": "PX5H0SmSocV4",
    "outputId": "5fff0003-504b-40ea-c007-9f80d9019e98"
   },
   "outputs": [
    {
     "name": "stdout",
     "output_type": "stream",
     "text": [
      "CPU times: user 3.44 ms, sys: 0 ns, total: 3.44 ms\n",
      "Wall time: 3.51 ms\n"
     ]
    }
   ],
   "source": [
    "%%time\n",
    "for i in range(40):\n",
    "  x = torch.randn(50, 50)\n",
    "  y = torch.randn(50, 50)\n",
    "  z = x * y"
   ]
  },
  {
   "cell_type": "code",
   "execution_count": 17,
   "metadata": {
    "colab": {
     "base_uri": "https://localhost:8080/",
     "height": 34
    },
    "colab_type": "code",
    "executionInfo": {
     "elapsed": 6188,
     "status": "ok",
     "timestamp": 1587405657252,
     "user": {
      "displayName": "shah krishna",
      "photoUrl": "",
      "userId": "02285464088952770387"
     },
     "user_tz": -330
    },
    "id": "6QdHHRWdoqyg",
    "outputId": "89660b16-b009-4c9b-a934-2ee05ec127ed"
   },
   "outputs": [
    {
     "name": "stdout",
     "output_type": "stream",
     "text": [
      "1\n"
     ]
    }
   ],
   "source": [
    "print(torch.cuda.device_count())"
   ]
  },
  {
   "cell_type": "code",
   "execution_count": 18,
   "metadata": {
    "colab": {
     "base_uri": "https://localhost:8080/",
     "height": 50
    },
    "colab_type": "code",
    "executionInfo": {
     "elapsed": 6163,
     "status": "ok",
     "timestamp": 1587405657254,
     "user": {
      "displayName": "shah krishna",
      "photoUrl": "",
      "userId": "02285464088952770387"
     },
     "user_tz": -330
    },
    "id": "HEqxUlXgs_V1",
    "outputId": "5fbfd835-db7a-40c1-c787-5ac94fcb4d98"
   },
   "outputs": [
    {
     "name": "stdout",
     "output_type": "stream",
     "text": [
      "<torch.cuda.device object at 0x7fd5a2de2550>\n",
      "Tesla K80\n"
     ]
    }
   ],
   "source": [
    "print(torch.cuda.device(0))\n",
    "print(torch.cuda.get_device_name(0))"
   ]
  },
  {
   "cell_type": "code",
   "execution_count": 0,
   "metadata": {
    "colab": {},
    "colab_type": "code",
    "id": "zieGUDgEtOrk"
   },
   "outputs": [],
   "source": [
    "cuda0 = torch.device(\"cuda:0\")"
   ]
  },
  {
   "cell_type": "code",
   "execution_count": 20,
   "metadata": {
    "colab": {
     "base_uri": "https://localhost:8080/",
     "height": 50
    },
    "colab_type": "code",
    "executionInfo": {
     "elapsed": 14717,
     "status": "ok",
     "timestamp": 1587405665838,
     "user": {
      "displayName": "shah krishna",
      "photoUrl": "",
      "userId": "02285464088952770387"
     },
     "user_tz": -330
    },
    "id": "8IGHYX5Wtlv8",
    "outputId": "e694f032-c493-4c61-ca42-e2f4b009c037"
   },
   "outputs": [
    {
     "name": "stdout",
     "output_type": "stream",
     "text": [
      "tensor([[ 1.8752,  0.0266,  1.0036],\n",
      "        [-0.1947, -2.1048, -1.3507]], device='cuda:0')\n"
     ]
    }
   ],
   "source": [
    "x = torch.randn(2, 3, device=cuda0)\n",
    "y = torch.randn(2, 1, device=cuda0)\n",
    "z = x + y\n",
    "print(z)"
   ]
  },
  {
   "cell_type": "code",
   "execution_count": 21,
   "metadata": {
    "colab": {
     "base_uri": "https://localhost:8080/",
     "height": 34
    },
    "colab_type": "code",
    "executionInfo": {
     "elapsed": 14697,
     "status": "ok",
     "timestamp": 1587405665839,
     "user": {
      "displayName": "shah krishna",
      "photoUrl": "",
      "userId": "02285464088952770387"
     },
     "user_tz": -330
    },
    "id": "C7sEV0WXt8ru",
    "outputId": "c8d84a52-303d-42c4-92bd-ceecf1a96a29"
   },
   "outputs": [
    {
     "name": "stdout",
     "output_type": "stream",
     "text": [
      "torch.Size([2, 3]) torch.Size([2, 3]) torch.Size([2, 3])\n"
     ]
    }
   ],
   "source": [
    "x = torch.ones(2, 3)\n",
    "y = torch.ones((2, 3))\n",
    "z = torch.ones([2, 3])\n",
    "print(x.shape, y.shape, z.shape)"
   ]
  },
  {
   "cell_type": "code",
   "execution_count": 22,
   "metadata": {
    "colab": {
     "base_uri": "https://localhost:8080/",
     "height": 50
    },
    "colab_type": "code",
    "executionInfo": {
     "elapsed": 14676,
     "status": "ok",
     "timestamp": 1587405665839,
     "user": {
      "displayName": "shah krishna",
      "photoUrl": "",
      "userId": "02285464088952770387"
     },
     "user_tz": -330
    },
    "id": "q5xn5sz7zF8-",
    "outputId": "71b31045-35fe-46dc-8aae-57f543aa085b"
   },
   "outputs": [
    {
     "name": "stdout",
     "output_type": "stream",
     "text": [
      "tensor([[1., 1., 1.],\n",
      "        [1., 1., 1.]], requires_grad=True)\n"
     ]
    }
   ],
   "source": [
    "x = torch.ones((2, 3), requires_grad=True)\n",
    "print(x)"
   ]
  },
  {
   "cell_type": "code",
   "execution_count": 23,
   "metadata": {
    "colab": {
     "base_uri": "https://localhost:8080/",
     "height": 50
    },
    "colab_type": "code",
    "executionInfo": {
     "elapsed": 14656,
     "status": "ok",
     "timestamp": 1587405665840,
     "user": {
      "displayName": "shah krishna",
      "photoUrl": "",
      "userId": "02285464088952770387"
     },
     "user_tz": -330
    },
    "id": "Ink_Z8bezPd9",
    "outputId": "338afc9d-58c1-4fcd-8caf-9cf242854d9c"
   },
   "outputs": [
    {
     "name": "stdout",
     "output_type": "stream",
     "text": [
      "tensor([[11., 11., 11.],\n",
      "        [11., 11., 11.]], grad_fn=<AddBackward0>)\n"
     ]
    }
   ],
   "source": [
    "y = x + 10\n",
    "print(y)"
   ]
  },
  {
   "cell_type": "code",
   "execution_count": 24,
   "metadata": {
    "colab": {
     "base_uri": "https://localhost:8080/",
     "height": 50
    },
    "colab_type": "code",
    "executionInfo": {
     "elapsed": 14631,
     "status": "ok",
     "timestamp": 1587405665841,
     "user": {
      "displayName": "shah krishna",
      "photoUrl": "",
      "userId": "02285464088952770387"
     },
     "user_tz": -330
    },
    "id": "4OV04dhwzUXU",
    "outputId": "1f44b265-e194-4f42-bc72-927f6501032d"
   },
   "outputs": [
    {
     "name": "stdout",
     "output_type": "stream",
     "text": [
      "tensor([[77., 77., 77.],\n",
      "        [77., 77., 77.]], grad_fn=<MulBackward0>)\n"
     ]
    }
   ],
   "source": [
    "z = y * 7\n",
    "print(z)"
   ]
  },
  {
   "cell_type": "code",
   "execution_count": 25,
   "metadata": {
    "colab": {
     "base_uri": "https://localhost:8080/",
     "height": 34
    },
    "colab_type": "code",
    "executionInfo": {
     "elapsed": 14608,
     "status": "ok",
     "timestamp": 1587405665842,
     "user": {
      "displayName": "shah krishna",
      "photoUrl": "",
      "userId": "02285464088952770387"
     },
     "user_tz": -330
    },
    "id": "Ba5ILrakzZa6",
    "outputId": "7ae6d72d-416d-4e70-cde0-cc0b21f7a7b2"
   },
   "outputs": [
    {
     "name": "stdout",
     "output_type": "stream",
     "text": [
      "tensor(462., grad_fn=<SumBackward0>)\n"
     ]
    }
   ],
   "source": [
    "r = torch.sum(z)\n",
    "print(r)"
   ]
  },
  {
   "cell_type": "code",
   "execution_count": 0,
   "metadata": {
    "colab": {},
    "colab_type": "code",
    "id": "AnVf-7YIz3c3"
   },
   "outputs": [],
   "source": [
    "r.backward()"
   ]
  },
  {
   "cell_type": "code",
   "execution_count": 27,
   "metadata": {
    "colab": {
     "base_uri": "https://localhost:8080/",
     "height": 50
    },
    "colab_type": "code",
    "executionInfo": {
     "elapsed": 14582,
     "status": "ok",
     "timestamp": 1587405665843,
     "user": {
      "displayName": "shah krishna",
      "photoUrl": "",
      "userId": "02285464088952770387"
     },
     "user_tz": -330
    },
    "id": "ExnKppixzgon",
    "outputId": "2c5bd94a-caca-4ebf-bac3-0044ef8ffd61"
   },
   "outputs": [
    {
     "name": "stdout",
     "output_type": "stream",
     "text": [
      "tensor([[7., 7., 7.],\n",
      "        [7., 7., 7.]])\n"
     ]
    }
   ],
   "source": [
    "print(x.grad)"
   ]
  },
  {
   "cell_type": "code",
   "execution_count": 28,
   "metadata": {
    "colab": {
     "base_uri": "https://localhost:8080/",
     "height": 50
    },
    "colab_type": "code",
    "executionInfo": {
     "elapsed": 14562,
     "status": "ok",
     "timestamp": 1587405665844,
     "user": {
      "displayName": "shah krishna",
      "photoUrl": "",
      "userId": "02285464088952770387"
     },
     "user_tz": -330
    },
    "id": "TvEmZUEjz_w4",
    "outputId": "037d4a3b-dea9-4116-c552-a2ebdddbce11"
   },
   "outputs": [
    {
     "name": "stdout",
     "output_type": "stream",
     "text": [
      "tensor([[ 1.4149, -2.1585, -0.9209],\n",
      "        [-1.4367, -2.5882, -1.4416]], requires_grad=True)\n"
     ]
    }
   ],
   "source": [
    "x = torch.randn((2, 3), requires_grad=True)\n",
    "print(x)"
   ]
  },
  {
   "cell_type": "code",
   "execution_count": 29,
   "metadata": {
    "colab": {
     "base_uri": "https://localhost:8080/",
     "height": 50
    },
    "colab_type": "code",
    "executionInfo": {
     "elapsed": 14523,
     "status": "ok",
     "timestamp": 1587405665844,
     "user": {
      "displayName": "shah krishna",
      "photoUrl": "",
      "userId": "02285464088952770387"
     },
     "user_tz": -330
    },
    "id": "vgptWkaj1I7D",
    "outputId": "ab3976c1-7f09-4739-ea4d-235ef78dc915"
   },
   "outputs": [
    {
     "name": "stdout",
     "output_type": "stream",
     "text": [
      "tensor([[2.0020, 4.6591, 0.8480],\n",
      "        [2.0640, 6.6990, 2.0781]], grad_fn=<PowBackward0>)\n"
     ]
    }
   ],
   "source": [
    "y = x ** 2\n",
    "print(y)"
   ]
  },
  {
   "cell_type": "code",
   "execution_count": 30,
   "metadata": {
    "colab": {
     "base_uri": "https://localhost:8080/",
     "height": 50
    },
    "colab_type": "code",
    "executionInfo": {
     "elapsed": 14499,
     "status": "ok",
     "timestamp": 1587405665846,
     "user": {
      "displayName": "shah krishna",
      "photoUrl": "",
      "userId": "02285464088952770387"
     },
     "user_tz": -330
    },
    "id": "ARGdaI9m1SFs",
    "outputId": "32a3c89c-e4af-4221-facf-cca8de5e586a"
   },
   "outputs": [
    {
     "name": "stdout",
     "output_type": "stream",
     "text": [
      "tensor([[ 4.0040,  9.3181,  1.6961],\n",
      "        [ 4.1280, 13.3980,  4.1562]], grad_fn=<MulBackward0>)\n"
     ]
    }
   ],
   "source": [
    "z = y * 2\n",
    "print(z)"
   ]
  },
  {
   "cell_type": "code",
   "execution_count": 0,
   "metadata": {
    "colab": {},
    "colab_type": "code",
    "id": "lTi1zmfX1s-e"
   },
   "outputs": [],
   "source": [
    "t = torch.ones(2, 3)\n",
    "z.backward(t)\n"
   ]
  },
  {
   "cell_type": "code",
   "execution_count": 0,
   "metadata": {
    "colab": {},
    "colab_type": "code",
    "id": "AlqP2BpA2aHX"
   },
   "outputs": [],
   "source": []
  },
  {
   "cell_type": "code",
   "execution_count": 32,
   "metadata": {
    "colab": {
     "base_uri": "https://localhost:8080/",
     "height": 50
    },
    "colab_type": "code",
    "executionInfo": {
     "elapsed": 14465,
     "status": "ok",
     "timestamp": 1587405665850,
     "user": {
      "displayName": "shah krishna",
      "photoUrl": "",
      "userId": "02285464088952770387"
     },
     "user_tz": -330
    },
    "id": "pYDQX76_2FtN",
    "outputId": "f14862c3-849c-41c4-b41a-32010301c4d6"
   },
   "outputs": [
    {
     "name": "stdout",
     "output_type": "stream",
     "text": [
      "tensor([[  5.6597,  -8.6340,  -3.6836],\n",
      "        [ -5.7467, -10.3530,  -5.7663]])\n"
     ]
    }
   ],
   "source": [
    "print(x.grad)"
   ]
  },
  {
   "cell_type": "code",
   "execution_count": 0,
   "metadata": {
    "colab": {},
    "colab_type": "code",
    "id": "P-SavQyq60NH"
   },
   "outputs": [],
   "source": [
    "x = torch.randn((20, 1), requires_grad = True)\n",
    "y = 3*x - 2"
   ]
  },
  {
   "cell_type": "code",
   "execution_count": 0,
   "metadata": {
    "colab": {},
    "colab_type": "code",
    "id": "haa4AAoG7bt-"
   },
   "outputs": [],
   "source": [
    "w = torch.tensor([4.], requires_grad=True)\n",
    "b = torch.tensor([-2.], requires_grad=True)\n",
    "y_pred = w * x + b\n",
    "loss = torch.sum((y_pred - y)**2)"
   ]
  },
  {
   "cell_type": "code",
   "execution_count": 35,
   "metadata": {
    "colab": {
     "base_uri": "https://localhost:8080/",
     "height": 34
    },
    "colab_type": "code",
    "executionInfo": {
     "elapsed": 14431,
     "status": "ok",
     "timestamp": 1587405665854,
     "user": {
      "displayName": "shah krishna",
      "photoUrl": "",
      "userId": "02285464088952770387"
     },
     "user_tz": -330
    },
    "id": "4D68mK0175aP",
    "outputId": "816f4f9b-3209-46d0-f89f-b9edc28608d7"
   },
   "outputs": [
    {
     "name": "stdout",
     "output_type": "stream",
     "text": [
      "tensor(24.1069, grad_fn=<SumBackward0>)\n"
     ]
    }
   ],
   "source": [
    "print(loss)"
   ]
  },
  {
   "cell_type": "code",
   "execution_count": 0,
   "metadata": {
    "colab": {},
    "colab_type": "code",
    "id": "ylB7fwrQ7-VY"
   },
   "outputs": [],
   "source": [
    "loss.backward()"
   ]
  },
  {
   "cell_type": "code",
   "execution_count": 37,
   "metadata": {
    "colab": {
     "base_uri": "https://localhost:8080/",
     "height": 50
    },
    "colab_type": "code",
    "executionInfo": {
     "elapsed": 14407,
     "status": "ok",
     "timestamp": 1587405665856,
     "user": {
      "displayName": "shah krishna",
      "photoUrl": "",
      "userId": "02285464088952770387"
     },
     "user_tz": -330
    },
    "id": "tHSwuAaE8MSg",
    "outputId": "dff0c52f-d7e6-4b76-9395-03a8d550ce57"
   },
   "outputs": [
    {
     "name": "stdout",
     "output_type": "stream",
     "text": [
      "tensor([48.2139])\n",
      "tensor([-1.7331])\n"
     ]
    }
   ],
   "source": [
    "print(w.grad)\n",
    "print(b.grad)"
   ]
  },
  {
   "cell_type": "code",
   "execution_count": 79,
   "metadata": {
    "colab": {
     "base_uri": "https://localhost:8080/",
     "height": 50
    },
    "colab_type": "code",
    "executionInfo": {
     "elapsed": 2748,
     "status": "ok",
     "timestamp": 1587408054855,
     "user": {
      "displayName": "shah krishna",
      "photoUrl": "",
      "userId": "02285464088952770387"
     },
     "user_tz": -330
    },
    "id": "VdkFadWqv9fm",
    "outputId": "ce481310-b127-4031-cdd5-03aaeac80353"
   },
   "outputs": [
    {
     "name": "stdout",
     "output_type": "stream",
     "text": [
      "CPU times: user 790 ms, sys: 492 ms, total: 1.28 s\n",
      "Wall time: 1.3 s\n"
     ]
    }
   ],
   "source": [
    "%%time\n",
    "learning_rate = 0.001\n",
    "N = 10000000\n",
    "epochs = 200\n",
    "\n",
    "w = torch.rand([N], requires_grad=True, device=cuda0)\n",
    "b = torch.ones([1], requires_grad=True, device=cuda0)\n",
    "\n",
    "# print(torch.mean(w).item(), b.item())\n",
    "\n",
    "for i in range(epochs):\n",
    "  \n",
    "  x = torch.randn([N], device=cuda0)\n",
    "  y = torch.dot(3*torch.ones([N], device=cuda0), x) - 2\n",
    "  \n",
    "  y_hat = torch.dot(w, x) + b\n",
    "  loss = torch.sum((y_hat - y)**2)\n",
    "  \n",
    "  loss.backward()\n",
    "  \n",
    "  with torch.no_grad():\n",
    "    w -= learning_rate * w.grad\n",
    "    b -= learning_rate * b.grad\n",
    "    \n",
    "    w.grad.zero_()\n",
    "    b.grad.zero_()\n",
    "\n",
    "  #print(torch.mean(w).item(), b.item())\n",
    "  "
   ]
  },
  {
   "cell_type": "code",
   "execution_count": 80,
   "metadata": {
    "colab": {
     "base_uri": "https://localhost:8080/",
     "height": 162
    },
    "colab_type": "code",
    "executionInfo": {
     "elapsed": 1430,
     "status": "error",
     "timestamp": 1587408295774,
     "user": {
      "displayName": "shah krishna",
      "photoUrl": "",
      "userId": "02285464088952770387"
     },
     "user_tz": -330
    },
    "id": "cB0Ahqmx6EoH",
    "outputId": "732a60cd-fa4e-4f53-b5f4-4f7a06a10f95"
   },
   "outputs": [
    {
     "ename": "RuntimeError",
     "evalue": "ignored",
     "output_type": "error",
     "traceback": [
      "\u001b[0;31m---------------------------------------------------------------------------\u001b[0m",
      "\u001b[0;31mRuntimeError\u001b[0m                              Traceback (most recent call last)",
      "\u001b[0;32m<ipython-input-80-57a10b99dd32>\u001b[0m in \u001b[0;36m<module>\u001b[0;34m()\u001b[0m\n\u001b[0;32m----> 1\u001b[0;31m \u001b[0mtorch\u001b[0m\u001b[0;34m.\u001b[0m\u001b[0mdot\u001b[0m\u001b[0;34m(\u001b[0m\u001b[0;36m3\u001b[0m\u001b[0;34m*\u001b[0m\u001b[0mtorch\u001b[0m\u001b[0;34m.\u001b[0m\u001b[0mones\u001b[0m\u001b[0;34m(\u001b[0m\u001b[0;34m[\u001b[0m\u001b[0;36m10\u001b[0m\u001b[0;34m]\u001b[0m\u001b[0;34m)\u001b[0m\u001b[0;34m,\u001b[0m \u001b[0mtorch\u001b[0m\u001b[0;34m.\u001b[0m\u001b[0mrandn\u001b[0m\u001b[0;34m(\u001b[0m\u001b[0;34m[\u001b[0m\u001b[0;36m10\u001b[0m\u001b[0;34m]\u001b[0m\u001b[0;34m,\u001b[0m \u001b[0mrequires_grad\u001b[0m\u001b[0;34m=\u001b[0m\u001b[0;32mTrue\u001b[0m\u001b[0;34m,\u001b[0m \u001b[0mdevice\u001b[0m\u001b[0;34m=\u001b[0m\u001b[0mcuda0\u001b[0m\u001b[0;34m)\u001b[0m\u001b[0;34m)\u001b[0m\u001b[0;34m\u001b[0m\u001b[0;34m\u001b[0m\u001b[0m\n\u001b[0m",
      "\u001b[0;31mRuntimeError\u001b[0m: Expected object of device type cuda but got device type cpu for argument #1 'self' in call to _th_dot"
     ]
    }
   ],
   "source": [
    "torch.dot(3*torch.ones([10]), torch.randn([10], requires_grad=True, device=cuda0))"
   ]
  }
 ],
 "metadata": {
  "accelerator": "GPU",
  "colab": {
   "authorship_tag": "ABX9TyOVlM6hJBEvGipjF5aQGcPr",
   "collapsed_sections": [],
   "name": "Practice_tensor.ipynb",
   "provenance": []
  },
  "kernelspec": {
   "display_name": "Python 3",
   "language": "python",
   "name": "python3"
  },
  "language_info": {
   "codemirror_mode": {
    "name": "ipython",
    "version": 3
   },
   "file_extension": ".py",
   "mimetype": "text/x-python",
   "name": "python",
   "nbconvert_exporter": "python",
   "pygments_lexer": "ipython3",
   "version": "3.7.1"
  }
 },
 "nbformat": 4,
 "nbformat_minor": 1
}
